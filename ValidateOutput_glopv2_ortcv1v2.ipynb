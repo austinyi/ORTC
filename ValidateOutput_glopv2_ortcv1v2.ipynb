{
 "cells": [
  {
   "cell_type": "code",
   "execution_count": 1,
   "metadata": {},
   "outputs": [],
   "source": [
    "from scipy.optimize import linprog\n",
    "import numpy as np\n",
    "import time\n",
    "from utils import get_degree_cost, stochastic_block_model\n",
    "\n",
    "from entropicORTC import entropic_ortc\n",
    "from ortc_v1 import ortc_v1\n",
    "from ortc_v2 import ortc_v2\n",
    "from glop_v2 import glop_v2"
   ]
  },
  {
   "cell_type": "code",
   "execution_count": 2,
   "metadata": {},
   "outputs": [],
   "source": [
    "np.random.seed(10)"
   ]
  },
  {
   "cell_type": "code",
   "execution_count": 3,
   "metadata": {},
   "outputs": [],
   "source": [
    "m1 = 3\n",
    "m2 = 3\n",
    "A1 = stochastic_block_model(np.array([m1,m1,m1,m1]), np.array([[1,0.1,0.1,0.1],[0.1,0.9,0.1,0.1],[0.1,0.1,0.8,0.1],[0.1,0.1,0.1,0.7]]))\n",
    "A2 = stochastic_block_model(np.array([m2,m2,m2,m2]), np.array([[1,0.1,0.1,0.1],[0.1,0.9,0.1,0.1],[0.1,0.1,0.8,0.1],[0.1,0.1,0.1,0.7]]))\n",
    "A1 = A1 / np.sum(A1)\n",
    "A2 = A2 / np.sum(A2)\n",
    "c = get_degree_cost(A1, A2)"
   ]
  },
  {
   "cell_type": "code",
   "execution_count": 4,
   "metadata": {},
   "outputs": [
    {
     "name": "stdout",
     "output_type": "stream",
     "text": [
      "0.001151502267573696\n",
      "141.5353066921234\n"
     ]
    }
   ],
   "source": [
    "start = time.time()\n",
    "exp_cost, weight = ortc_v1(A1, A2, c)\n",
    "end = time.time()\n",
    "print(exp_cost)\n",
    "print(end - start)"
   ]
  },
  {
   "cell_type": "code",
   "execution_count": 5,
   "metadata": {},
   "outputs": [
    {
     "name": "stdout",
     "output_type": "stream",
     "text": [
      "0.0011515022675736958\n",
      "0.09004020690917969\n"
     ]
    }
   ],
   "source": [
    "start = time.time()\n",
    "exp_cost, weight = ortc_v2(A1, A2, c)\n",
    "end = time.time()\n",
    "print(exp_cost)\n",
    "print(end - start)"
   ]
  },
  {
   "cell_type": "code",
   "execution_count": 6,
   "metadata": {},
   "outputs": [
    {
     "name": "stdout",
     "output_type": "stream",
     "text": [
      "0.0011515022675736958\n",
      "0.24906301498413086\n"
     ]
    }
   ],
   "source": [
    "start = time.time()\n",
    "a, exp_cost, weight = glop_v2(A1, A2, c)\n",
    "end = time.time()\n",
    "print(exp_cost)\n",
    "print(end - start)"
   ]
  },
  {
   "cell_type": "code",
   "execution_count": 7,
   "metadata": {},
   "outputs": [
    {
     "name": "stdout",
     "output_type": "stream",
     "text": [
      "0.00161982018452432\n",
      "6.07554292678833\n"
     ]
    }
   ],
   "source": [
    "start = time.time()\n",
    "w, exp_cost, n, iter_his, cost_his = entropic_ortc_new(A1, A2, c, 0.0002, 10000, 1e-8)\n",
    "end = time.time()\n",
    "print(exp_cost)\n",
    "print(end - start)"
   ]
  },
  {
   "cell_type": "code",
   "execution_count": 8,
   "metadata": {},
   "outputs": [],
   "source": [
    "m1 = 4\n",
    "m2 = 3\n",
    "A1 = stochastic_block_model(np.array([m1,m1,m1,m1]), np.array([[1,0.1,0.1,0.1],[0.1,0.9,0.1,0.1],[0.1,0.1,0.8,0.1],[0.1,0.1,0.1,0.7]]))\n",
    "A2 = stochastic_block_model(np.array([m2,m2,m2,m2]), np.array([[1,0.1,0.1,0.1],[0.1,0.9,0.1,0.1],[0.1,0.1,0.8,0.1],[0.1,0.1,0.1,0.7]]))\n",
    "A1 = A1 / np.sum(A1)\n",
    "A2 = A2 / np.sum(A2)\n",
    "c = get_degree_cost(A1, A2)"
   ]
  },
  {
   "cell_type": "code",
   "execution_count": 9,
   "metadata": {},
   "outputs": [
    {
     "name": "stdout",
     "output_type": "stream",
     "text": [
      "0.0008092251456331941\n",
      "726.0152671337128\n"
     ]
    }
   ],
   "source": [
    "start = time.time()\n",
    "exp_cost, weight = ortc_v1(A1, A2, c)\n",
    "end = time.time()\n",
    "print(exp_cost)\n",
    "print(end - start)"
   ]
  },
  {
   "cell_type": "code",
   "execution_count": 10,
   "metadata": {},
   "outputs": [
    {
     "name": "stdout",
     "output_type": "stream",
     "text": [
      "0.0008092251456331911\n",
      "0.6134819984436035\n"
     ]
    }
   ],
   "source": [
    "start = time.time()\n",
    "exp_cost, weight = ortc_v2(A1, A2, c)\n",
    "end = time.time()\n",
    "print(exp_cost)\n",
    "print(end - start)"
   ]
  },
  {
   "cell_type": "code",
   "execution_count": 11,
   "metadata": {},
   "outputs": [
    {
     "name": "stdout",
     "output_type": "stream",
     "text": [
      "0.0008092251456331919\n",
      "1.0813572406768799\n"
     ]
    }
   ],
   "source": [
    "start = time.time()\n",
    "a, exp_cost, weight = glop_v2(A1, A2, c)\n",
    "end = time.time()\n",
    "print(exp_cost)\n",
    "print(end - start)"
   ]
  },
  {
   "cell_type": "code",
   "execution_count": null,
   "metadata": {},
   "outputs": [],
   "source": []
  },
  {
   "cell_type": "code",
   "execution_count": null,
   "metadata": {},
   "outputs": [],
   "source": []
  },
  {
   "cell_type": "code",
   "execution_count": 12,
   "metadata": {},
   "outputs": [],
   "source": [
    "def is_connected(adj_matrix):\n",
    "    def dfs(v, visited):\n",
    "        visited[v] = True\n",
    "        for i, weight in enumerate(adj_matrix[v]):\n",
    "            if weight > 0 and not visited[i]:\n",
    "                dfs(i, visited)\n",
    "\n",
    "    n = adj_matrix.shape[0]\n",
    "    visited = np.zeros(n, dtype=bool)\n",
    "\n",
    "    # Start DFS from the first vertex (index 0)\n",
    "    dfs(0, visited)\n",
    "\n",
    "    return np.all(visited)"
   ]
  },
  {
   "cell_type": "code",
   "execution_count": 13,
   "metadata": {},
   "outputs": [
    {
     "name": "stdout",
     "output_type": "stream",
     "text": [
      "0\n",
      "1 0\n",
      "1\n",
      "2 0\n",
      "2\n",
      "3 0\n",
      "3\n",
      "4 0\n",
      "4\n",
      "5 0\n",
      "5\n",
      "6 0\n",
      "6\n",
      "7 0\n",
      "7\n",
      "8 0\n",
      "8\n",
      "9 0\n",
      "9\n",
      "10 0\n",
      "10 0\n",
      "145.35052053928376\n",
      "0.3179842710494995\n",
      "0.6511257886886597\n"
     ]
    }
   ],
   "source": [
    "ortc_v1_time = 0\n",
    "ortc_v2_time = 0\n",
    "glop_v2_time = 0\n",
    "total = 0\n",
    "wrong = 0\n",
    "\n",
    "for i in range(10):\n",
    "    print(i)\n",
    "    m1 = 3\n",
    "    m2 = 3\n",
    "    A1 = stochastic_block_model(np.array([m1, m1, m1, m1]), np.array(\n",
    "        [[1, 0.1, 0.1, 0.1], [0.1, 0.9, 0.1, 0.1], [0.1, 0.1, 0.8, 0.1], [0.1, 0.1, 0.1, 0.7]]))\n",
    "    A2 = stochastic_block_model(np.array([m2, m2, m2, m2]), np.array(\n",
    "        [[1, 0.1, 0.1, 0.1], [0.1, 0.9, 0.1, 0.1], [0.1, 0.1, 0.8, 0.1], [0.1, 0.1, 0.1, 0.7]]))\n",
    "    \n",
    "    while not is_connected(A1) or not is_connected(A2):\n",
    "        A1 = stochastic_block_model(np.array([m1, m1, m1, m1]), np.array(\n",
    "            [[1, 0.1, 0.1, 0.1], [0.1, 0.9, 0.1, 0.1], [0.1, 0.1, 0.8, 0.1], [0.1, 0.1, 0.1, 0.7]]))\n",
    "        A2 = stochastic_block_model(np.array([m2, m2, m2, m2]), np.array(\n",
    "            [[1, 0.1, 0.1, 0.1], [0.1, 0.9, 0.1, 0.1], [0.1, 0.1, 0.8, 0.1], [0.1, 0.1, 0.1, 0.7]]))\n",
    "    \n",
    "    A1 = A1 / np.sum(A1)\n",
    "    A2 = A2 / np.sum(A2)\n",
    "    c = get_degree_cost(A1, A2)\n",
    "    \n",
    "    start = time.time()\n",
    "    exp_cost1, _ = ortc_v1(A1, A2, c)\n",
    "    end = time.time()\n",
    "    ortc_v1_time += end - start\n",
    "\n",
    "    start = time.time()\n",
    "    exp_cost2, _ = ortc_v2(A1, A2, c)\n",
    "    end = time.time()\n",
    "    ortc_v2_time += end - start\n",
    "\n",
    "    start = time.time()\n",
    "    _, exp_cost3, _ = glop_v2(A1, A2, c)\n",
    "    end = time.time()\n",
    "    glop_v2_time += end - start\n",
    "\n",
    "    if round(exp_cost1, 10) != round(exp_cost2, 10) or round(exp_cost1, 10) != round(exp_cost3, 10):\n",
    "        wrong += 1        \n",
    "    total += 1\n",
    "    print(total, wrong)\n",
    "    \n",
    "    \n",
    "print(total, wrong)\n",
    "print(ortc_v1_time / total)\n",
    "print(ortc_v2_time / total)\n",
    "print(glop_v2_time / total)"
   ]
  },
  {
   "cell_type": "code",
   "execution_count": null,
   "metadata": {},
   "outputs": [],
   "source": []
  },
  {
   "cell_type": "code",
   "execution_count": null,
   "metadata": {},
   "outputs": [],
   "source": []
  },
  {
   "cell_type": "code",
   "execution_count": 14,
   "metadata": {},
   "outputs": [
    {
     "name": "stdout",
     "output_type": "stream",
     "text": [
      "0.0005438691127682721\n",
      "2304.6370759010315\n",
      "0.0005438691127683123\n",
      "23.113929986953735\n",
      "0.000512389213114736\n",
      "32.73895883560181\n"
     ]
    }
   ],
   "source": [
    "m1 = 5\n",
    "m2 = 5\n",
    "A1 = stochastic_block_model(np.array([m1,m1,m1,m1]), np.array([[1,0.1,0.1,0.1],[0.1,0.9,0.1,0.1],[0.1,0.1,0.8,0.1],[0.1,0.1,0.1,0.7]]))\n",
    "A2 = stochastic_block_model(np.array([m2,m2,m2,m2]), np.array([[1,0.1,0.1,0.1],[0.1,0.9,0.1,0.1],[0.1,0.1,0.8,0.1],[0.1,0.1,0.1,0.7]]))\n",
    "A1 = A1 / np.sum(A1)\n",
    "A2 = A2 / np.sum(A2)\n",
    "c = get_degree_cost(A1, A2)\n",
    "\n",
    "start = time.time()\n",
    "exp_cost2, _ = ortc_v2(A1, A2, c)\n",
    "end = time.time()\n",
    "print(exp_cost2)\n",
    "print(end - start)\n",
    "\n",
    "start = time.time()\n",
    "_, exp_cost3, _ = glop_v2(A1, A2, c)\n",
    "end = time.time()\n",
    "print(exp_cost3)\n",
    "print(end - start)\n",
    "\n",
    "start = time.time()\n",
    "w, exp_cost, n, iter_his, cost_his = entropic_ortc_new(A1, A2, c, 0.0002, 10000, 1e-8)\n",
    "end = time.time()\n",
    "print(exp_cost)\n",
    "print(end - start)"
   ]
  },
  {
   "cell_type": "code",
   "execution_count": null,
   "metadata": {},
   "outputs": [],
   "source": [
    "m1 = 5\n",
    "m2 = 5\n",
    "A1 = stochastic_block_model(np.array([m1,m1,m1,m1]), np.array([[1,0.1,0.1,0.1],[0.1,0.9,0.1,0.1],[0.1,0.1,0.8,0.1],[0.1,0.1,0.1,0.7]]))\n",
    "A2 = stochastic_block_model(np.array([m2,m2,m2,m2]), np.array([[1,0.1,0.1,0.1],[0.1,0.9,0.1,0.1],[0.1,0.1,0.8,0.1],[0.1,0.1,0.1,0.7]]))\n",
    "A1 = A1 / np.sum(A1)\n",
    "A2 = A2 / np.sum(A2)\n",
    "c = get_degree_cost(A1, A2)\n",
    "\n",
    "start = time.time()\n",
    "exp_cost2, _ = ortc_v2(A1, A2, c)\n",
    "end = time.time()\n",
    "print(exp_cost2)\n",
    "print(end - start)\n",
    "\n",
    "start = time.time()\n",
    "_, exp_cost3, _ = glop_v2(A1, A2, c)\n",
    "end = time.time()\n",
    "print(exp_cost3)\n",
    "print(end - start)\n",
    "\n",
    "start = time.time()\n",
    "w, exp_cost, n, iter_his, cost_his = entropic_ortc_new(A1, A2, c, 0.0002, 10000, 1e-8)\n",
    "end = time.time()\n",
    "print(exp_cost)\n",
    "print(end - start)"
   ]
  },
  {
   "cell_type": "code",
   "execution_count": null,
   "metadata": {},
   "outputs": [],
   "source": [
    "m1 = 7\n",
    "m2 = 7\n",
    "A1 = stochastic_block_model(np.array([m1,m1,m1,m1]), np.array([[1,0.1,0.1,0.1],[0.1,0.9,0.1,0.1],[0.1,0.1,0.8,0.1],[0.1,0.1,0.1,0.7]]))\n",
    "A2 = stochastic_block_model(np.array([m2,m2,m2,m2]), np.array([[1,0.1,0.1,0.1],[0.1,0.9,0.1,0.1],[0.1,0.1,0.8,0.1],[0.1,0.1,0.1,0.7]]))\n",
    "A1 = A1 / np.sum(A1)\n",
    "A2 = A2 / np.sum(A2)\n",
    "c = get_degree_cost(A1, A2)\n",
    "\n",
    "\n",
    "start = time.time()\n",
    "_, exp_cost, _ = glop_v2(A1, A2, c)\n",
    "end = time.time()\n",
    "print(exp_cost)\n",
    "print(end - start)\n",
    "\n",
    "start = time.time()\n",
    "w, exp_cost, n, iter_his, cost_his = entropic_ortc_new(A1, A2, c, 0.0002, 10000, 1e-8)\n",
    "end = time.time()\n",
    "print(exp_cost)\n",
    "print(end - start)"
   ]
  },
  {
   "cell_type": "code",
   "execution_count": null,
   "metadata": {},
   "outputs": [],
   "source": []
  }
 ],
 "metadata": {
  "kernelspec": {
   "display_name": "Python 3",
   "language": "python",
   "name": "python3"
  },
  "language_info": {
   "codemirror_mode": {
    "name": "ipython",
    "version": 3
   },
   "file_extension": ".py",
   "mimetype": "text/x-python",
   "name": "python",
   "nbconvert_exporter": "python",
   "pygments_lexer": "ipython3",
   "version": "3.9.18"
  }
 },
 "nbformat": 4,
 "nbformat_minor": 4
}
