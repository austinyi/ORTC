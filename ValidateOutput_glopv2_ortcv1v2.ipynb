{
 "cells": [
  {
   "cell_type": "code",
   "execution_count": 1,
   "metadata": {},
   "outputs": [],
   "source": [
    "from scipy.optimize import linprog\n",
    "import numpy as np\n",
    "import time\n",
    "from utils import get_degree_cost, stochastic_block_model\n",
    "\n",
    "from entropicORTC import entropic_ortc_new\n",
    "from ortc_v1 import ortc_v1\n",
    "from ortc_v2 import ortc_v2\n",
    "from glop_v2 import glop_v2"
   ]
  },
  {
   "cell_type": "code",
   "execution_count": 2,
   "metadata": {},
   "outputs": [],
   "source": [
    "m1 = 3\n",
    "m2 = 3\n",
    "A1 = stochastic_block_model(np.array([m1,m1,m1,m1]), np.array([[1,0.1,0.1,0.1],[0.1,0.9,0.1,0.1],[0.1,0.1,0.8,0.1],[0.1,0.1,0.1,0.7]]))\n",
    "A2 = stochastic_block_model(np.array([m2,m2,m2,m2]), np.array([[1,0.1,0.1,0.1],[0.1,0.9,0.1,0.1],[0.1,0.1,0.8,0.1],[0.1,0.1,0.1,0.7]]))\n",
    "A1 = A1 / np.sum(A1)\n",
    "A2 = A2 / np.sum(A2)\n",
    "c = get_degree_cost(A1, A2)"
   ]
  },
  {
   "cell_type": "code",
   "execution_count": 3,
   "metadata": {},
   "outputs": [
    {
     "name": "stdout",
     "output_type": "stream",
     "text": [
      "0.0020638463718820835\n",
      "194.45026206970215\n"
     ]
    }
   ],
   "source": [
    "start = time.time()\n",
    "exp_cost, weight = ortc_v1(A1, A2, c)\n",
    "end = time.time()\n",
    "print(exp_cost)\n",
    "print(end - start)"
   ]
  },
  {
   "cell_type": "code",
   "execution_count": 4,
   "metadata": {},
   "outputs": [
    {
     "name": "stdout",
     "output_type": "stream",
     "text": [
      "0.0020638463718820822\n",
      "0.08164215087890625\n"
     ]
    }
   ],
   "source": [
    "start = time.time()\n",
    "exp_cost, weight = ortc_v2(A1, A2, c)\n",
    "end = time.time()\n",
    "print(exp_cost)\n",
    "print(end - start)"
   ]
  },
  {
   "cell_type": "code",
   "execution_count": 5,
   "metadata": {},
   "outputs": [
    {
     "name": "stdout",
     "output_type": "stream",
     "text": [
      "0.0020638463718820857\n",
      "0.2834341526031494\n"
     ]
    }
   ],
   "source": [
    "start = time.time()\n",
    "a, exp_cost, weight = glop_v2(A1, A2, c)\n",
    "end = time.time()\n",
    "print(exp_cost)\n",
    "print(end - start)"
   ]
  },
  {
   "cell_type": "code",
   "execution_count": 6,
   "metadata": {},
   "outputs": [
    {
     "name": "stdout",
     "output_type": "stream",
     "text": [
      "0.0020513130489590234\n",
      "6.894402027130127\n"
     ]
    }
   ],
   "source": [
    "start = time.time()\n",
    "w, exp_cost, n, iter_his, cost_his = entropic_ortc_new(A1, A2, c, 0.0002, 10000, 1e-8)\n",
    "end = time.time()\n",
    "print(exp_cost)\n",
    "print(end - start)"
   ]
  },
  {
   "cell_type": "code",
   "execution_count": null,
   "metadata": {},
   "outputs": [],
   "source": []
  }
 ],
 "metadata": {
  "kernelspec": {
   "display_name": "Python 3",
   "language": "python",
   "name": "python3"
  },
  "language_info": {
   "codemirror_mode": {
    "name": "ipython",
    "version": 3
   },
   "file_extension": ".py",
   "mimetype": "text/x-python",
   "name": "python",
   "nbconvert_exporter": "python",
   "pygments_lexer": "ipython3",
   "version": "3.8.3"
  }
 },
 "nbformat": 4,
 "nbformat_minor": 4
}
