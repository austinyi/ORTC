{
 "cells": [
  {
   "cell_type": "code",
   "execution_count": 1,
   "metadata": {},
   "outputs": [],
   "source": [
    "from scipy.optimize import linprog\n",
    "import numpy as np\n",
    "import time\n",
    "from utils import get_degree_cost, stochastic_block_model, is_connected\n",
    "\n",
    "from entropicORTC import entropic_ortc\n",
    "from glop_v2 import glop_v2"
   ]
  },
  {
   "cell_type": "code",
   "execution_count": 2,
   "metadata": {},
   "outputs": [],
   "source": [
    "np.random.seed(10)"
   ]
  },
  {
   "cell_type": "code",
   "execution_count": 3,
   "metadata": {},
   "outputs": [],
   "source": [
    "m1 = 3\n",
    "m2 = 3\n",
    "A1 = stochastic_block_model(np.array([m1,m1,m1,m1]), np.array([[1,0.1,0.1,0.1],[0.1,0.9,0.1,0.1],[0.1,0.1,0.8,0.1],[0.1,0.1,0.1,0.7]]))\n",
    "A2 = stochastic_block_model(np.array([m2,m2,m2,m2]), np.array([[1,0.1,0.1,0.1],[0.1,0.9,0.1,0.1],[0.1,0.1,0.8,0.1],[0.1,0.1,0.1,0.7]]))\n",
    "A1 = A1 / np.sum(A1)\n",
    "A2 = A2 / np.sum(A2)\n",
    "c = get_degree_cost(A1, A2)"
   ]
  },
  {
   "cell_type": "code",
   "execution_count": 5,
   "metadata": {},
   "outputs": [
    {
     "name": "stdout",
     "output_type": "stream",
     "text": [
      "0.001151502267573696\n",
      "0.1608750820159912\n"
     ]
    }
   ],
   "source": [
    "start = time.time()\n",
    "a, exp_cost, weight = glop_v2(A1, A2, c)\n",
    "end = time.time()\n",
    "print(exp_cost)\n",
    "print(end - start)"
   ]
  },
  {
   "cell_type": "code",
   "execution_count": 6,
   "metadata": {},
   "outputs": [
    {
     "name": "stdout",
     "output_type": "stream",
     "text": [
      "0.00161982018452432\n",
      "5.148578643798828\n"
     ]
    }
   ],
   "source": [
    "start = time.time()\n",
    "w, exp_cost, n, iter_his, cost_his = entropic_ortc(A1, A2, c, 0.0002, 10000, 1e-8)\n",
    "end = time.time()\n",
    "print(exp_cost)\n",
    "print(end - start)"
   ]
  },
  {
   "cell_type": "code",
   "execution_count": 3,
   "metadata": {},
   "outputs": [
    {
     "name": "stdout",
     "output_type": "stream",
     "text": [
      "True\n",
      "True\n"
     ]
    }
   ],
   "source": [
    "m1 = 200\n",
    "A1 = stochastic_block_model(np.array([m1]), np.array([[2/3]]))\n",
    "A2 = A1.copy()\n",
    "\n",
    "#permute nodes\n",
    "A2[[0, 2], :] = A2[[2, 0], :]     # swap row 0 with row 2\n",
    "A2[[1, 5], :] = A2[[5, 1], :]\n",
    "A2[[9, 20], :] = A2[[20, 9], :]\n",
    "A2[:, [0, 2]] = A2[:, [2, 0]]     # swap column 0 with column 2\n",
    "A2[:, [1, 5]] = A2[:, [5, 1]]\n",
    "A2[:, [9, 20]] = A2[:, [20, 9]]\n",
    "\n",
    "A1 = A1 / np.sum(A1)\n",
    "A2 = A2 / np.sum(A2)\n",
    "\n",
    "c = get_degree_cost(A1,A2)\n",
    "\n",
    "d1 = np.sum(A1, axis=1)\n",
    "d2 = np.sum(A2, axis=1)\n",
    "\n",
    "print(is_connected(A1))\n",
    "print(is_connected(A2))\n",
    "\n",
    "epsi = 0.1\n",
    "niter = 10\n",
    "delta = 1e-10\n",
    "\n",
    "start = time.time()\n",
    "w_1, exp_cost_1, n_1, iter_his_1, cost_his_1 = entropic_ortc(A1, A2, c, epsi, niter, delta)\n",
    "end = time.time()\n",
    "print(end - start)"
   ]
  },
  {
   "cell_type": "code",
   "execution_count": null,
   "metadata": {},
   "outputs": [],
   "source": []
  }
 ],
 "metadata": {
  "kernelspec": {
   "display_name": "NetOTC",
   "language": "python",
   "name": "python3"
  },
  "language_info": {
   "codemirror_mode": {
    "name": "ipython",
    "version": 3
   },
   "file_extension": ".py",
   "mimetype": "text/x-python",
   "name": "python",
   "nbconvert_exporter": "python",
   "pygments_lexer": "ipython3",
   "version": "3.9.18"
  }
 },
 "nbformat": 4,
 "nbformat_minor": 2
}
