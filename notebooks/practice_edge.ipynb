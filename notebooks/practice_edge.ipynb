{
 "cells": [
  {
   "cell_type": "code",
   "execution_count": 33,
   "metadata": {},
   "outputs": [],
   "source": [
    "from scipy.optimize import linprog\n",
    "import numpy as np\n",
    "import time\n",
    "from utils import get_degree_cost, stochastic_block_model, is_connected\n",
    "\n",
    "from entropicORTC import entropic_ortc\n",
    "from ortc_v1 import ortc_v1\n",
    "from ortc_v2 import ortc_v2\n",
    "from glop_v2 import glop_v2"
   ]
  },
  {
   "cell_type": "code",
   "execution_count": 34,
   "metadata": {},
   "outputs": [],
   "source": [
    "np.random.seed(10)"
   ]
  },
  {
   "cell_type": "code",
   "execution_count": 35,
   "metadata": {},
   "outputs": [],
   "source": [
    "m1 = 3\n",
    "m2 = 3\n",
    "A1 = stochastic_block_model(np.array([m1,m1,m1,m1]), np.array([[1,0.1,0.1,0.1],[0.1,0.9,0.1,0.1],[0.1,0.1,0.8,0.1],[0.1,0.1,0.1,0.7]]))\n",
    "A2 = stochastic_block_model(np.array([m2,m2,m2,m2]), np.array([[1,0.1,0.1,0.1],[0.1,0.9,0.1,0.1],[0.1,0.1,0.8,0.1],[0.1,0.1,0.1,0.7]]))\n",
    "A1 = A1 / np.sum(A1)\n",
    "A2 = A2 / np.sum(A2)\n",
    "c = get_degree_cost(A1, A2)\n",
    "\n",
    "eps = 0.00001"
   ]
  },
  {
   "cell_type": "code",
   "execution_count": 43,
   "metadata": {},
   "outputs": [],
   "source": [
    "dx, _ = A1.shape\n",
    "dy, _ = A2.shape\n",
    "\n",
    "# d1: dx\n",
    "# d2: dy\n",
    "d1 = np.sum(A1, axis=1)\n",
    "d2 = np.sum(A2, axis=1)\n",
    "\n",
    "# edges: list of edges\n",
    "# edge_weights: list of edge weights\n",
    "#\n",
    "# i-th element of 'edge_weights' is the weight of i-th element (edge) of 'edges'\n",
    "#\n",
    "# ne: number of edges\n",
    "# connect: a dictionary where each key is a vertex in the network.\n",
    "#           The corresponding value for each vertex key is a list of edge indices that include that vertex.\n",
    "\n",
    "edges1 = []\n",
    "edge_weights1 = []\n",
    "connect1 = {i: [] for i in range(dx)}\n",
    "ne1 = 0\n",
    "for i in range(dx):\n",
    "    for j in range(i + 1, dx):\n",
    "        if A1[i][j] > 0:\n",
    "            edges1.append((i, j))\n",
    "            edge_weights1.append(A1[i][j])\n",
    "            connect1[i].append(ne1)\n",
    "            ne1 += 1\n",
    "            \n",
    "            edges1.append((j, i))\n",
    "            edge_weights1.append(A1[j][i])\n",
    "            connect1[j].append(ne1)\n",
    "            ne1 += 1\n",
    "\n",
    "edges2 = []\n",
    "edge_weights2 = []\n",
    "connect2 = {i: [] for i in range(dy)}\n",
    "ne2 = 0\n",
    "for i in range(dy):\n",
    "    for j in range(i + 1, dy):\n",
    "        if A2[i][j] > 0:\n",
    "            edges2.append((i, j))\n",
    "            edge_weights2.append(A2[i][j])\n",
    "            connect2[i].append(ne2)\n",
    "            ne2 += 1\n",
    "\n",
    "            edges2.append((j, i))\n",
    "            edge_weights2.append(A2[j][i])\n",
    "            connect2[j].append(ne2)\n",
    "            ne2 += 1\n",
    "            \n",
    "edges1 = np.array(edges1)\n",
    "edges2 = np.array(edges2)\n",
    "edge_weights1 = np.array(edge_weights1)\n",
    "edge_weights2 = np.array(edge_weights2)\n",
    "\n",
    "# Init\n",
    "# C: ne1 * ne2\n",
    "u1_indices = edges1[:, 0].reshape(-1, 1)\n",
    "v1_indices = edges2[:, 0].reshape(1, -1)\n",
    "u2_indices = edges1[:, 1].reshape(-1, 1)\n",
    "v2_indices = edges2[:, 1].reshape(1, -1)\n",
    "\n",
    "C = np.exp(-(c[u1_indices, v1_indices] + c[u2_indices, v2_indices]) / eps)\n",
    "\n",
    "# F: ne1 * dy\n",
    "F = np.tile(edge_weights1[:, np.newaxis], (1, dy))\n",
    "\n",
    "# G: ne2 * dx\n",
    "G = np.tile(edge_weights2[:, np.newaxis], (1, dx))\n",
    "\n",
    "# H: ne1 * ne2\n",
    "H = np.ones((ne1, ne2))\n",
    "\n",
    "# K: scalar\n",
    "F = F[:,v1_indices.flatten()]\n",
    "G = G[:,u1_indices.flatten()]\n",
    "\n",
    "K = 1 / np.sum(F * C * G.T * H)\n",
    "\n",
    "# w: ne1 * ne2\n",
    "w = C * F * G.T * H * K"
   ]
  },
  {
   "cell_type": "code",
   "execution_count": 45,
   "metadata": {},
   "outputs": [],
   "source": [
    "d = np.zeros((dx, dy))\n",
    "for u in range(dx):\n",
    "    for v in range(dy):\n",
    "        d[u, v] = np.sum(w[np.ix_(connect1[u], connect2[v])])"
   ]
  },
  {
   "cell_type": "code",
   "execution_count": 56,
   "metadata": {},
   "outputs": [
    {
     "data": {
      "text/plain": [
       "(38, 12)"
      ]
     },
     "execution_count": 56,
     "metadata": {},
     "output_type": "execute_result"
    }
   ],
   "source": [
    "np.tile(edge_weights1[:, np.newaxis], (1, dy)).shape"
   ]
  },
  {
   "cell_type": "code",
   "execution_count": 53,
   "metadata": {},
   "outputs": [
    {
     "data": {
      "text/plain": [
       "12"
      ]
     },
     "execution_count": 53,
     "metadata": {},
     "output_type": "execute_result"
    }
   ],
   "source": [
    "dy"
   ]
  },
  {
   "cell_type": "code",
   "execution_count": 10,
   "metadata": {},
   "outputs": [],
   "source": [
    "u1_indices = edges1[:, 0].reshape(-1, 1)\n",
    "v1_indices = edges2[:, 0].reshape(1, -1)\n",
    "u2_indices = edges1[:, 1].reshape(-1, 1)\n",
    "v2_indices = edges2[:, 1].reshape(1, -1)\n",
    "\n",
    "c_reshape = np.exp(-(c[u1_indices, v1_indices] + c[u2_indices, v2_indices])/eps)"
   ]
  },
  {
   "cell_type": "code",
   "execution_count": 22,
   "metadata": {},
   "outputs": [],
   "source": [
    "edge_weights1 = np.array(edge_weights1)\n",
    "edge_weights2 = np.array(edge_weights2)"
   ]
  },
  {
   "cell_type": "code",
   "execution_count": 58,
   "metadata": {},
   "outputs": [
    {
     "data": {
      "text/plain": [
       "(12, 1, 1)"
      ]
     },
     "execution_count": 58,
     "metadata": {},
     "output_type": "execute_result"
    }
   ],
   "source": [
    "d1[:, np.newaxis, np.newaxis].shape"
   ]
  },
  {
   "cell_type": "code",
   "execution_count": 63,
   "metadata": {},
   "outputs": [
    {
     "data": {
      "text/plain": [
       "(38, 1)"
      ]
     },
     "execution_count": 63,
     "metadata": {},
     "output_type": "execute_result"
    }
   ],
   "source": [
    "u1_indices.shape"
   ]
  },
  {
   "cell_type": "code",
   "execution_count": 66,
   "metadata": {},
   "outputs": [
    {
     "data": {
      "text/plain": [
       "(38, 12)"
      ]
     },
     "execution_count": 66,
     "metadata": {},
     "output_type": "execute_result"
    }
   ],
   "source": [
    "np.tile(d1[u1_indices], (1, dy)).shape"
   ]
  },
  {
   "cell_type": "code",
   "execution_count": 71,
   "metadata": {},
   "outputs": [
    {
     "data": {
      "text/plain": [
       "(3,)"
      ]
     },
     "execution_count": 71,
     "metadata": {},
     "output_type": "execute_result"
    }
   ],
   "source": [
    "i = 0\n",
    "j = 1\n",
    "C[i, connect2[j]].shape"
   ]
  },
  {
   "cell_type": "code",
   "execution_count": 80,
   "metadata": {},
   "outputs": [
    {
     "data": {
      "text/plain": [
       "(3,)"
      ]
     },
     "execution_count": 80,
     "metadata": {},
     "output_type": "execute_result"
    }
   ],
   "source": [
    "G[connect2[j], edges1[i][0]]"
   ]
  },
  {
   "cell_type": "code",
   "execution_count": 81,
   "metadata": {},
   "outputs": [
    {
     "data": {
      "text/plain": [
       "(3,)"
      ]
     },
     "execution_count": 81,
     "metadata": {},
     "output_type": "execute_result"
    }
   ],
   "source": [
    "H[i, connect2[j]].shape"
   ]
  },
  {
   "cell_type": "code",
   "execution_count": 82,
   "metadata": {},
   "outputs": [
    {
     "data": {
      "text/plain": [
       "449.34793865279073"
      ]
     },
     "execution_count": 82,
     "metadata": {},
     "output_type": "execute_result"
    }
   ],
   "source": [
    "K"
   ]
  },
  {
   "cell_type": "code",
   "execution_count": 83,
   "metadata": {},
   "outputs": [
    {
     "data": {
      "text/plain": [
       "array([7.99548423e-128, 7.99548423e-128, 1.27373174e-069])"
      ]
     },
     "execution_count": 83,
     "metadata": {},
     "output_type": "execute_result"
    }
   ],
   "source": [
    "C[i, connect2[j]] * G[connect2[j], edges1[i][0]] * H[i, connect2[j]] * K"
   ]
  },
  {
   "cell_type": "code",
   "execution_count": 88,
   "metadata": {},
   "outputs": [],
   "source": [
    "t = np.zeros((ne1, dy))\n",
    "for i in range(ne1):\n",
    "    for j in range(dy):\n",
    "        t[i, j] = np.sum(C[i, connect2[j]] * G[connect2[j], edges1[i][0]] * H[i, connect2[j]] * K)"
   ]
  },
  {
   "cell_type": "code",
   "execution_count": 90,
   "metadata": {},
   "outputs": [
    {
     "data": {
      "text/plain": [
       "(38, 12)"
      ]
     },
     "execution_count": 90,
     "metadata": {},
     "output_type": "execute_result"
    }
   ],
   "source": [
    "(d[u1_indices.flatten(),:] * np.tile(edge_weights1[:, np.newaxis], (1, dy)) / np.tile(d1[u1_indices], (1, dy))).shape"
   ]
  },
  {
   "cell_type": "code",
   "execution_count": 91,
   "metadata": {},
   "outputs": [
    {
     "ename": "IndexError",
     "evalue": "index 37 is out of bounds for axis 1 with size 36",
     "output_type": "error",
     "traceback": [
      "\u001b[0;31m---------------------------------------------------------------------------\u001b[0m",
      "\u001b[0;31mIndexError\u001b[0m                                Traceback (most recent call last)",
      "Cell \u001b[0;32mIn[91], line 1\u001b[0m\n\u001b[0;32m----> 1\u001b[0m \u001b[43mC\u001b[49m\u001b[43m[\u001b[49m\u001b[43mconnect1\u001b[49m\u001b[43m[\u001b[49m\u001b[43mj\u001b[49m\u001b[43m]\u001b[49m\u001b[43m,\u001b[49m\u001b[43m \u001b[49m\u001b[43mi\u001b[49m\u001b[43m]\u001b[49m \u001b[38;5;241m*\u001b[39m F[connect1[j], edges2[i][\u001b[38;5;241m0\u001b[39m]] \u001b[38;5;241m*\u001b[39m H[connect1[j], i] \u001b[38;5;241m*\u001b[39m K\n",
      "\u001b[0;31mIndexError\u001b[0m: index 37 is out of bounds for axis 1 with size 36"
     ]
    }
   ],
   "source": [
    "C[connect1[j], i] * F[connect1[j], edges2[i][0]] * H[connect1[j], i] * K"
   ]
  },
  {
   "cell_type": "code",
   "execution_count": 96,
   "metadata": {},
   "outputs": [
    {
     "data": {
      "text/plain": [
       "(4,)"
      ]
     },
     "execution_count": 96,
     "metadata": {},
     "output_type": "execute_result"
    }
   ],
   "source": [
    "i = 0\n",
    "j = 1\n",
    "C[connect1[j], i].shape"
   ]
  },
  {
   "cell_type": "code",
   "execution_count": 124,
   "metadata": {},
   "outputs": [],
   "source": [
    "# 2: update F\n",
    "# d: dx * dy                            \n",
    "d = np.zeros((dx, dy))\n",
    "for u in range(dx):\n",
    "    for v in range(dy):\n",
    "        d[u, v] = np.sum(w[np.ix_(connect1[u], connect2[v])])\n",
    "# t: ne1 * dy  \n",
    "t = np.zeros((ne1, dy))\n",
    "for i in range(ne1):\n",
    "    for j in range(dy):\n",
    "        t[i, j] = np.sum(C[i, connect2[j]] * G[connect2[j], edges1[i][0]] * H[i, connect2[j]] * K)\n",
    "\n",
    "# F: ne1 * dy     \n",
    "F = d[u1_indices.flatten(),:] * np.tile(edge_weights1[:, np.newaxis], (1, dy)) / np.tile(d1[u1_indices], (1, dy)) / t\n",
    "\n",
    "# 3: update G\n",
    "# t: ne2 * dx\n",
    "t = np.zeros((ne2, dx))\n",
    "for i in range(ne2):\n",
    "    for j in range(dx):\n",
    "        t[i, j] = np.sum(C[connect1[j], i] * F[connect1[j], edges2[i][0]] * H[connect1[j], i] * K)\n",
    "# G: ne2 * dx\n",
    "G = d[:, v1_indices.flatten()].T * np.tile(edge_weights2[:, np.newaxis], (1, dx)) / np.tile(d2[v1_indices.T], (1, dx)) / t\n"
   ]
  },
  {
   "cell_type": "code",
   "execution_count": 125,
   "metadata": {},
   "outputs": [
    {
     "data": {
      "text/plain": [
       "(38, 12)"
      ]
     },
     "execution_count": 125,
     "metadata": {},
     "output_type": "execute_result"
    }
   ],
   "source": [
    "F.shape"
   ]
  },
  {
   "cell_type": "code",
   "execution_count": 126,
   "metadata": {},
   "outputs": [],
   "source": [
    "# Create k and l using numpy operations\n",
    "k = np.where(np.arange(ne1) % 2 == 0, np.arange(ne1) + 1, np.arange(ne1) - 1)\n",
    "l = np.where(np.arange(ne2) % 2 == 0, np.arange(ne2) + 1, np.arange(ne2) - 1)"
   ]
  },
  {
   "cell_type": "code",
   "execution_count": 142,
   "metadata": {},
   "outputs": [
    {
     "data": {
      "text/plain": [
       "(38, 36)"
      ]
     },
     "execution_count": 142,
     "metadata": {},
     "output_type": "execute_result"
    }
   ],
   "source": [
    "G[l.reshape(-1, 1), u2_indices.T].T.shape"
   ]
  },
  {
   "cell_type": "code",
   "execution_count": 143,
   "metadata": {},
   "outputs": [],
   "source": [
    "# Create k and l using numpy operations\n",
    "k = np.where(np.arange(ne1) % 2 == 0, np.arange(ne1) + 1, np.arange(ne1) - 1)\n",
    "l = np.where(np.arange(ne2) % 2 == 0, np.arange(ne2) + 1, np.arange(ne2) - 1)\n",
    "\n",
    "# Get the relevant elements from the arrays using broadcasting\n",
    "F_k_edges2_j1 = F[k.reshape(-1, 1), v2_indices]\n",
    "G_l_edges1_i1 = G[l.reshape(-1, 1), u2_indices.T].T\n",
    "\n",
    "F_i_edges2_j0 = F[np.arange(ne1).reshape(-1, 1), v1_indices]\n",
    "G_j_edges1_i0 = G[np.arange(ne2).reshape(-1, 1), u1_indices.T].T\n",
    "\n",
    "# Calculate H using element-wise operations\n",
    "H = np.sqrt((F_k_edges2_j1 * G_l_edges1_i1) / (F_i_edges2_j0 * G_j_edges1_i0))"
   ]
  },
  {
   "cell_type": "code",
   "execution_count": 144,
   "metadata": {},
   "outputs": [
    {
     "data": {
      "text/plain": [
       "(38, 36)"
      ]
     },
     "execution_count": 144,
     "metadata": {},
     "output_type": "execute_result"
    }
   ],
   "source": [
    "H.shape"
   ]
  },
  {
   "cell_type": "code",
   "execution_count": 111,
   "metadata": {},
   "outputs": [
    {
     "data": {
      "text/plain": [
       "(36, 12)"
      ]
     },
     "execution_count": 111,
     "metadata": {},
     "output_type": "execute_result"
    }
   ],
   "source": [
    "d[:, v1_indices.flatten()].T.shape"
   ]
  },
  {
   "cell_type": "code",
   "execution_count": 107,
   "metadata": {},
   "outputs": [
    {
     "data": {
      "text/plain": [
       "(38, 1)"
      ]
     },
     "execution_count": 107,
     "metadata": {},
     "output_type": "execute_result"
    }
   ],
   "source": [
    "u1_indices.shape"
   ]
  },
  {
   "cell_type": "code",
   "execution_count": null,
   "metadata": {},
   "outputs": [],
   "source": []
  },
  {
   "cell_type": "code",
   "execution_count": 24,
   "metadata": {},
   "outputs": [],
   "source": [
    "dx, _ = A1.shape\n",
    "dy, _ = A2.shape\n",
    "\n",
    "# d1: dx\n",
    "# d2: dy\n",
    "d1 = np.sum(A1, axis=1)\n",
    "d2 = np.sum(A2, axis=1)\n",
    "\n",
    "# Init\n",
    "# C: dx * dy * dx * dy\n",
    "C = np.exp(-(c[:, :, np.newaxis, np.newaxis] + c[np.newaxis, np.newaxis, :, :]) / eps)\n",
    "\n",
    "# F: dx * dy * dx\n",
    "F = np.tile(A1[:, np.newaxis, :], (1, dy, 1))\n",
    "\n",
    "# G: dx * dy * dy\n",
    "G = np.tile(A2, (dx, 1, 1))\n",
    "\n",
    "# H: dx * dy * dx * dy\n",
    "H = np.ones((dx, dy, dx, dy))\n",
    "\n",
    "# K: scalar\n",
    "K = np.sum(F[:, :, :, np.newaxis] * C * G[:, :, np.newaxis, :] * H)\n",
    "K = 1 / K\n",
    "\n",
    "# w: dx * dx * dx * dy    \n",
    "w = C * F[:, :, :, np.newaxis] * G[:, :, np.newaxis, :] * H * K"
   ]
  },
  {
   "cell_type": "code",
   "execution_count": 28,
   "metadata": {},
   "outputs": [
    {
     "data": {
      "text/plain": [
       "28.0"
      ]
     },
     "execution_count": 28,
     "metadata": {},
     "output_type": "execute_result"
    }
   ],
   "source": [
    "np.sum(G)"
   ]
  },
  {
   "cell_type": "code",
   "execution_count": 30,
   "metadata": {},
   "outputs": [],
   "source": [
    "dx, _ = A1.shape\n",
    "dy, _ = A2.shape\n",
    "\n",
    "# d1: dx\n",
    "# d2: dy\n",
    "d1 = np.sum(A1, axis=1)\n",
    "d2 = np.sum(A2, axis=1)\n",
    "\n",
    "# edges: list of edges\n",
    "# edge_weights: list of edge weights\n",
    "#\n",
    "# i-th element of 'edge_weights' is the weight of i-th element (edge) of 'edges'\n",
    "#\n",
    "# ne: number of edges\n",
    "# connect: a dictionary where each key is a vertex in the network.\n",
    "#           The corresponding value for each vertex key is a list of edge indices that include that vertex.\n",
    "\n",
    "edges1 = []\n",
    "edge_weights1 = []\n",
    "connect1 = {i: [] for i in range(dx)}\n",
    "ne1 = 0\n",
    "for i in range(dx):\n",
    "    for j in range(i + 1, dx):\n",
    "        if A1[i][j] > 0:\n",
    "            edges1.append((i, j))\n",
    "            edge_weights1.append(A1[i][j])\n",
    "            connect1[i].append(ne1)\n",
    "            ne1 += 1\n",
    "            \n",
    "            edges1.append((j, i))\n",
    "            edge_weights1.append(A1[j][i])\n",
    "            connect1[j].append(ne1)\n",
    "            ne1 += 1\n",
    "\n",
    "edges2 = []\n",
    "edge_weights2 = []\n",
    "connect2 = {i: [] for i in range(dy)}\n",
    "ne2 = 0\n",
    "for i in range(dy):\n",
    "    for j in range(i + 1, dy):\n",
    "        if A2[i][j] > 0:\n",
    "            edges2.append((i, j))\n",
    "            edge_weights2.append(A2[i][j])\n",
    "            connect2[i].append(ne2)\n",
    "            ne2 += 1\n",
    "\n",
    "            edges2.append((j, i))\n",
    "            edge_weights2.append(A2[j][i])\n",
    "            connect2[j].append(ne2)\n",
    "            ne2 += 1\n",
    "            \n",
    "edges1 = np.array(edges1)\n",
    "edges2 = np.array(edges2)\n",
    "edge_weights1 = np.array(edge_weights1)\n",
    "edge_weights2 = np.array(edge_weights2)\n",
    "\n",
    "# Init\n",
    "# C: ne1 * ne2\n",
    "u1_indices = edges1[:, 0].reshape(-1, 1)\n",
    "v1_indices = edges2[:, 0].reshape(1, -1)\n",
    "u2_indices = edges1[:, 1].reshape(-1, 1)\n",
    "v2_indices = edges2[:, 1].reshape(1, -1)\n",
    "\n",
    "C = np.exp(-(c[u1_indices, v1_indices] + c[u2_indices, v2_indices]) / eps)\n",
    "\n",
    "# F: ne1 * dy\n",
    "F = np.tile(edge_weights1[:, np.newaxis], (1, dy))\n",
    "\n",
    "# G: ne2 * dx\n",
    "G = np.tile(edge_weights2[:, np.newaxis], (1, dx))\n",
    "\n",
    "# H: ne1 * ne2\n",
    "H = np.ones((ne1, ne2))\n",
    "\n",
    "# K: scalar\n",
    "F = F[:, v1_indices.flatten()]\n",
    "G = G[:, u1_indices.flatten()]\n",
    "\n",
    "K = 1 / np.sum(F * C * G.T * H)\n",
    "\n",
    "# w: ne1 * ne2\n",
    "w = F * C * G.T * H * K\n",
    "        \n",
    "w_old = np.ones((ne1, ne2))\n",
    "num_iter = 0\n",
    "\n",
    "# d: dx * dy                            \n",
    "d = np.zeros((dx, dy))\n",
    "for u in range(dx):\n",
    "    for v in range(dy):\n",
    "        d[u, v] = np.sum(w[np.ix_(connect1[u], connect2[v])])"
   ]
  },
  {
   "cell_type": "code",
   "execution_count": 31,
   "metadata": {},
   "outputs": [
    {
     "data": {
      "text/plain": [
       "1.6941523091634232e+21"
      ]
     },
     "execution_count": 31,
     "metadata": {},
     "output_type": "execute_result"
    }
   ],
   "source": [
    "K"
   ]
  },
  {
   "cell_type": "code",
   "execution_count": 32,
   "metadata": {},
   "outputs": [
    {
     "data": {
      "text/plain": [
       "28.0"
      ]
     },
     "execution_count": 32,
     "metadata": {},
     "output_type": "execute_result"
    }
   ],
   "source": [
    "np.sum(G)"
   ]
  },
  {
   "cell_type": "code",
   "execution_count": null,
   "metadata": {},
   "outputs": [],
   "source": []
  }
 ],
 "metadata": {
  "kernelspec": {
   "display_name": "NetOTC",
   "language": "python",
   "name": "python3"
  },
  "language_info": {
   "codemirror_mode": {
    "name": "ipython",
    "version": 3
   },
   "file_extension": ".py",
   "mimetype": "text/x-python",
   "name": "python",
   "nbconvert_exporter": "python",
   "pygments_lexer": "ipython3",
   "version": "3.9.18"
  }
 },
 "nbformat": 4,
 "nbformat_minor": 2
}
