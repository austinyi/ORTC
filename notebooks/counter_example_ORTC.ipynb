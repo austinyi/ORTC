{
 "cells": [
  {
   "cell_type": "code",
   "execution_count": 1,
   "id": "bfd7b63a",
   "metadata": {},
   "outputs": [],
   "source": [
    "import numpy as np\n",
    "from random import randint\n",
    "import sys\n",
    "import os\n",
    "sys.path.append(os.path.abspath('../'))\n",
    "np.set_printoptions(threshold=sys.maxsize)"
   ]
  },
  {
   "cell_type": "code",
   "execution_count": 2,
   "id": "4cd0a175",
   "metadata": {},
   "outputs": [],
   "source": [
    "from ortc.utils import *\n",
    "from ortc.glop_v2 import glop_v2\n",
    "from ortc.ortc_v2 import ortc_v2\n",
    "from ortc.ortc_v1 import ortc_v1\n",
    "from otc.exactOTC import exact_otc"
   ]
  },
  {
   "cell_type": "code",
   "execution_count": 3,
   "id": "8eff5cc8",
   "metadata": {},
   "outputs": [
    {
     "name": "stdout",
     "output_type": "stream",
     "text": [
      "0.005830903790087663\n"
     ]
    }
   ],
   "source": [
    "# First example\n",
    "A1 = np.array([[0, 1, 1, 0, 0], [1, 0, 1, 1, 1], \n",
    "      [1, 1, 0, 0, 1], [0, 1, 0, 0, 1], [0, 1, 1, 1, 0]])\n",
    "\n",
    "A2 = np.array([[0, 1, 1, 0, 0], [1, 1, 1, 1, 0], \n",
    "      [1, 1, 0, 0, 1], [0, 1, 0, 0, 1], [0, 0, 1, 1, 1]])\n",
    "\n",
    "n1 = A1.shape[0]\n",
    "n2 = A2.shape[0]\n",
    "\n",
    "A1 = A1 / np.sum(A1)\n",
    "A2 = A2 / np.sum(A2)\n",
    "c = get_degree_cost(A1, A2)\n",
    "\n",
    "# a, exp_cost, weight = glop_v2(A1, A2, c)\n",
    "exp_cost, weight = ortc_v1(A1, A2, c)\n",
    "print(exp_cost)\n",
    "\n",
    "# AA, BB = glop_v2(A1, A2, c, vertex=True)\n",
    "\n",
    "# BB = np.array(BB)\n",
    "# #print(BB)\n",
    "# BB = np.reshape(BB, (n1**2, n2**2))\n",
    "# stat_dist = np.sum(BB, axis=1)\n",
    "\n",
    "# print(AA)\n",
    "# #print(BB)\n",
    "# print(stat_dist)"
   ]
  },
  {
   "cell_type": "code",
   "execution_count": 4,
   "id": "bff9635a",
   "metadata": {},
   "outputs": [
    {
     "name": "stdout",
     "output_type": "stream",
     "text": [
      "0.005830903790087463\n"
     ]
    }
   ],
   "source": [
    "def independent_weight_couplings(A1, A2):\n",
    "    dx = A1.shape[0]\n",
    "    dy = A2.shape[0]\n",
    "    w = np.zeros((dx,dy,dx,dy))\n",
    "    for i in range(dx):\n",
    "        for j in range(dy):\n",
    "            for k in range(dx):\n",
    "                w[i,j,k,:] = A1[i,k]*A2[j,:]\n",
    "    return w\n",
    "\n",
    "w_indep = independent_weight_couplings(A1, A2)\n",
    "\n",
    "d = np.sum(w_indep, axis=(2, 3))\n",
    "cost_indep = np.sum(d * c)\n",
    "print(cost_indep)\n",
    "# print(w_indep)\n",
    "# print(d)"
   ]
  },
  {
   "cell_type": "code",
   "execution_count": 5,
   "id": "dd6346ed",
   "metadata": {},
   "outputs": [
    {
     "name": "stdout",
     "output_type": "stream",
     "text": [
      "0.0007723234701074828\n"
     ]
    }
   ],
   "source": [
    "# NetOTC cost\n",
    "# Get transition matrices\n",
    "P1 = adj_to_trans(A1)\n",
    "P2 = adj_to_trans(A2)\n",
    "\n",
    "_, exp_cost, _, stat_dist = exact_otc(P1, P2, c)\n",
    "print(exp_cost)"
   ]
  },
  {
   "cell_type": "code",
   "execution_count": 7,
   "id": "e1486f78",
   "metadata": {},
   "outputs": [
    {
     "name": "stdout",
     "output_type": "stream",
     "text": [
      "0.0\n"
     ]
    }
   ],
   "source": [
    "# Second example\n",
    "\n",
    "A1 = np.array([[0, 1, 0, 0, 0, 0, 0, 0, 1, 0], \n",
    "               [1, 0, 1, 0, 0, 0, 0, 0, 0, 0], \n",
    "               [0, 1, 0, 1, 0, 0, 0, 0, 0, 0], \n",
    "               [0, 0, 1, 0, 0, 0, 0, 0, 0, 1], \n",
    "               [0, 0, 0, 0, 0, 1, 0, 0, 0, 1], \n",
    "               [0, 0, 0, 0, 1, 0, 1, 0, 0, 0], \n",
    "               [0, 0, 0, 0, 0, 1, 0, 1, 0, 0], \n",
    "               [0, 0, 0, 0, 0, 0, 1, 0, 1, 0], \n",
    "               [1, 0, 0, 0, 0, 0, 0, 1, 0, 1], \n",
    "               [0, 0, 0, 1, 1, 0, 0, 0, 1, 0]])\n",
    "\n",
    "A2 = np.array([[0, 1, 0, 0, 0, 0, 0, 0, 0, 1], \n",
    "               [1, 0, 1, 0, 0, 0, 0, 0, 0, 0], \n",
    "               [0, 1, 0, 1, 0, 0, 0, 0, 0, 0], \n",
    "               [0, 0, 1, 0, 0, 0, 0, 0, 0, 1], \n",
    "               [0, 0, 0, 0, 0, 1, 0, 0, 1, 0], \n",
    "               [0, 0, 0, 0, 1, 0, 1, 0, 0, 0], \n",
    "               [0, 0, 0, 0, 0, 1, 0, 1, 0, 0], \n",
    "               [0, 0, 0, 0, 0, 0, 1, 0, 1, 0], \n",
    "               [0, 0, 0, 0, 1, 0, 0, 1, 0, 1], \n",
    "               [1, 0, 0, 1, 0, 0, 0, 0, 1, 0]])\n",
    "\n",
    "A1 = A1 / np.sum(A1)\n",
    "A2 = A2 / np.sum(A2)\n",
    "c = get_degree_cost(A1, A2)\n",
    "\n",
    "# AA, BB = ortc_v1(A1, A2, c)\n",
    "_, exp_cost, weight = glop_v2(A1, A2, c, vertex=True)\n",
    "print(exp_cost)\n"
   ]
  },
  {
   "cell_type": "code",
   "execution_count": 8,
   "id": "ad7cae5a",
   "metadata": {},
   "outputs": [
    {
     "name": "stdout",
     "output_type": "stream",
     "text": [
      "0.0008196161464380843\n"
     ]
    }
   ],
   "source": [
    "w_indep = independent_weight_couplings(A1,A2)\n",
    "\n",
    "d = np.sum(w_indep, axis=(2, 3))\n",
    "cost_indep = np.sum(d * c)\n",
    "print(cost_indep)"
   ]
  },
  {
   "cell_type": "code",
   "execution_count": 9,
   "id": "1a79ca21",
   "metadata": {},
   "outputs": [
    {
     "name": "stdout",
     "output_type": "stream",
     "text": [
      "-5.387876920304113e-20\n"
     ]
    }
   ],
   "source": [
    "# Get transition matrices\n",
    "P1 = adj_to_trans(A1)\n",
    "P2 = adj_to_trans(A2)\n",
    "\n",
    "_, exp_cost, _, stat_dist = exact_otc(P1, P2, c)\n",
    "print(exp_cost)"
   ]
  },
  {
   "cell_type": "code",
   "execution_count": 10,
   "id": "bd6f1312",
   "metadata": {},
   "outputs": [],
   "source": [
    "# Third example\n",
    "\n",
    "A1 = np.array([\n",
    "    [0, 1, 1, 1, 1, 0, 0, 0, 0, 0, 0, 0, 0, 0, 0, 0, 0, 0, 0, 0, 0, 0, 0, 1],\n",
    "    [1, 0, 0, 0, 0, 1, 0, 1, 1, 0, 0, 0, 0, 0, 0, 0, 0, 0, 0, 0, 0, 0, 0, 0],\n",
    "    [1, 0, 0, 0, 0, 0, 1, 0, 0, 1, 1, 0, 0, 0, 0, 0, 0, 0, 0, 0, 0, 0, 0, 0],\n",
    "    [1, 0, 0, 0, 0, 0, 0, 1, 1, 0, 0, 0, 0, 0, 0, 0, 0, 0, 0, 0, 0, 0, 0, 0],\n",
    "    [1, 0, 0, 0, 0, 0, 0, 0, 0, 1, 1, 1, 0, 0, 0, 0, 0, 0, 0, 0, 0, 0, 0, 0],\n",
    "    [0, 1, 0, 0, 0, 0, 0, 0, 0, 0, 0, 0, 1, 0, 0, 0, 0, 0, 0, 0, 0, 0, 0, 0],\n",
    "    [0, 0, 1, 0, 0, 0, 0, 0, 0, 0, 0, 0, 0, 1, 0, 0, 0, 0, 0, 0, 0, 0, 0, 0],\n",
    "    [0, 1, 0, 1, 0, 0, 0, 0, 0, 0, 0, 0, 0, 0, 0, 0, 0, 0, 0, 0, 0, 0, 0, 1],\n",
    "    [0, 1, 0, 1, 0, 0, 0, 0, 0, 0, 0, 0, 0, 0, 1, 0, 0, 0, 0, 0, 0, 0, 0, 0],\n",
    "    [0, 0, 1, 0, 1, 0, 0, 0, 0, 0, 0, 0, 0, 0, 0, 0, 0, 0, 0, 0, 0, 0, 0, 1],\n",
    "    [0, 0, 1, 0, 1, 0, 0, 0, 0, 0, 0, 0, 0, 0, 0, 1, 0, 0, 0, 0, 0, 0, 0, 0],\n",
    "    [0, 0, 0, 0, 1, 0, 0, 0, 0, 0, 0, 0, 0, 0, 0, 0, 1, 0, 0, 0, 0, 0, 0, 0],\n",
    "    [0, 0, 0, 0, 0, 1, 0, 0, 0, 0, 0, 0, 0, 0, 0, 0, 0, 1, 0, 0, 0, 0, 0, 0],\n",
    "    [0, 0, 0, 0, 0, 0, 1, 0, 0, 0, 0, 0, 0, 0, 0, 0, 0, 0, 1, 0, 0, 0, 0, 0],\n",
    "    [0, 0, 0, 0, 0, 0, 0, 0, 1, 0, 0, 0, 0, 0, 0, 0, 0, 0, 0, 0, 0, 0, 0, 1],\n",
    "    [0, 0, 0, 0, 0, 0, 0, 0, 0, 0, 1, 0, 0, 0, 0, 0, 0, 0, 0, 0, 0, 0, 0, 1],\n",
    "    [0, 0, 0, 0, 0, 0, 0, 0, 0, 0, 0, 1, 0, 0, 0, 0, 0, 0, 0, 1, 0, 0, 0, 0],\n",
    "    [0, 0, 0, 0, 0, 0, 0, 0, 0, 0, 0, 0, 1, 0, 0, 0, 0, 0, 0, 0, 1, 0, 0, 0],\n",
    "    [0, 0, 0, 0, 0, 0, 0, 0, 0, 0, 0, 0, 0, 1, 0, 0, 0, 0, 0, 0, 0, 1, 0, 0],\n",
    "    [0, 0, 0, 0, 0, 0, 0, 0, 0, 0, 0, 0, 0, 0, 0, 0, 1, 0, 0, 0, 0, 0, 0, 1],\n",
    "    [0, 0, 0, 0, 0, 0, 0, 0, 0, 0, 0, 0, 0, 0, 0, 0, 0, 1, 0, 0, 0, 0, 1, 0],\n",
    "    [0, 0, 0, 0, 0, 0, 0, 0, 0, 0, 0, 0, 0, 0, 0, 0, 0, 0, 1, 0, 0, 0, 0, 1],\n",
    "    [0, 0, 0, 0, 0, 0, 0, 0, 0, 0, 0, 0, 0, 0, 0, 0, 0, 0, 0, 0, 1, 0, 0, 1],\n",
    "    [1, 0, 0, 0, 0, 0, 0, 1, 0, 1, 0, 0, 0, 0, 1, 1, 0, 0, 0, 1, 0, 1, 1, 0]\n",
    "])\n",
    "\n",
    "A2 = np.array([\n",
    "    [0, 1, 1, 1, 1, 0, 0, 0, 0, 0, 0, 0, 0, 0, 0, 0, 0, 0, 0, 0, 0, 0, 0, 1],\n",
    "    [1, 0, 0, 0, 0, 1, 0, 0, 0, 1, 1, 0, 0, 0, 0, 0, 0, 0, 0, 0, 0, 0, 0, 0],\n",
    "    [1, 0, 0, 0, 0, 0, 1, 1, 1, 0, 0, 0, 0, 0, 0, 0, 0, 0, 0, 0, 0, 0, 0, 0],\n",
    "    [1, 0, 0, 0, 0, 0, 0, 1, 1, 0, 0, 0, 0, 0, 0, 0, 0, 0, 0, 0, 0, 0, 0, 0],\n",
    "    [1, 0, 0, 0, 0, 0, 0, 0, 0, 1, 1, 1, 0, 0, 0, 0, 0, 0, 0, 0, 0, 0, 0, 0],\n",
    "    [0, 1, 0, 0, 0, 0, 0, 0, 0, 0, 0, 0, 1, 0, 0, 0, 0, 0, 0, 0, 0, 0, 0, 0],\n",
    "    [0, 0, 1, 0, 0, 0, 0, 0, 0, 0, 0, 0, 0, 1, 0, 0, 0, 0, 0, 0, 0, 0, 0, 0],\n",
    "    [0, 0, 1, 1, 0, 0, 0, 0, 0, 0, 0, 0, 0, 0, 0, 0, 0, 0, 0, 0, 0, 0, 0, 1],\n",
    "    [0, 0, 1, 1, 0, 0, 0, 0, 0, 0, 0, 0, 0, 0, 1, 0, 0, 0, 0, 0, 0, 0, 0, 0],\n",
    "    [0, 1, 0, 0, 1, 0, 0, 0, 0, 0, 0, 0, 0, 0, 0, 0, 0, 0, 0, 0, 0, 0, 0, 1],\n",
    "    [0, 1, 0, 0, 1, 0, 0, 0, 0, 0, 0, 0, 0, 0, 0, 1, 0, 0, 0, 0, 0, 0, 0, 0],\n",
    "    [0, 0, 0, 0, 1, 0, 0, 0, 0, 0, 0, 0, 0, 0, 0, 0, 1, 0, 0, 0, 0, 0, 0, 0],\n",
    "    [0, 0, 0, 0, 0, 1, 0, 0, 0, 0, 0, 0, 0, 0, 0, 0, 0, 1, 0, 0, 0, 0, 0, 0],\n",
    "    [0, 0, 0, 0, 0, 0, 1, 0, 0, 0, 0, 0, 0, 0, 0, 0, 0, 0, 1, 0, 0, 0, 0, 0],\n",
    "    [0, 0, 0, 0, 0, 0, 0, 0, 1, 0, 0, 0, 0, 0, 0, 0, 0, 0, 0, 0, 0, 0, 0, 1],\n",
    "    [0, 0, 0, 0, 0, 0, 0, 0, 0, 0, 1, 0, 0, 0, 0, 0, 0, 0, 0, 0, 0, 0, 0, 1],\n",
    "    [0, 0, 0, 0, 0, 0, 0, 0, 0, 0, 0, 1, 0, 0, 0, 0, 0, 0, 0, 1, 0, 0, 0, 0],\n",
    "    [0, 0, 0, 0, 0, 0, 0, 0, 0, 0, 0, 0, 1, 0, 0, 0, 0, 0, 0, 0, 1, 0, 0, 0],\n",
    "    [0, 0, 0, 0, 0, 0, 0, 0, 0, 0, 0, 0, 0, 1, 0, 0, 0, 0, 0, 0, 0, 1, 0, 0],\n",
    "    [0, 0, 0, 0, 0, 0, 0, 0, 0, 0, 0, 0, 0, 0, 0, 0, 1, 0, 0, 0, 0, 0, 0, 1],\n",
    "    [0, 0, 0, 0, 0, 0, 0, 0, 0, 0, 0, 0, 0, 0, 0, 0, 0, 1, 0, 0, 0, 0, 1, 0],\n",
    "    [0, 0, 0, 0, 0, 0, 0, 0, 0, 0, 0, 0, 0, 0, 0, 0, 0, 0, 1, 0, 0, 0, 0, 1],\n",
    "    [0, 0, 0, 0, 0, 0, 0, 0, 0, 0, 0, 0, 0, 0, 0, 0, 0, 0, 0, 0, 1, 0, 0, 1],\n",
    "    [1, 0, 0, 0, 0, 0, 0, 1, 0, 1, 0, 0, 0, 0, 1, 1, 0, 0, 0, 1, 0, 1, 1, 0]\n",
    "])"
   ]
  },
  {
   "cell_type": "code",
   "execution_count": 11,
   "id": "85cd03f8",
   "metadata": {},
   "outputs": [
    {
     "data": {
      "text/plain": [
       "True"
      ]
     },
     "execution_count": 11,
     "metadata": {},
     "output_type": "execute_result"
    }
   ],
   "source": [
    "def check_symmetric(a, rtol=1e-05, atol=1e-08):\n",
    "    return np.allclose(a, a.T, rtol=rtol, atol=atol)\n",
    "\n",
    "check_symmetric(A2, rtol=1e-05, atol=1e-08)"
   ]
  },
  {
   "cell_type": "code",
   "execution_count": 12,
   "id": "2d73f7df",
   "metadata": {},
   "outputs": [
    {
     "name": "stdout",
     "output_type": "stream",
     "text": [
      "0.0015456442092395674\n"
     ]
    }
   ],
   "source": [
    "A1 = A1 / np.sum(A1)\n",
    "A2 = A2 / np.sum(A2)\n",
    "c = get_degree_cost(A1, A2)\n",
    "\n",
    "_, exp_cost, weight = glop_v2(A1, A2, c)\n",
    "print(exp_cost)"
   ]
  },
  {
   "cell_type": "code",
   "execution_count": 13,
   "id": "a57ddbcc",
   "metadata": {},
   "outputs": [
    {
     "name": "stdout",
     "output_type": "stream",
     "text": [
      "0.0015456442092407906\n"
     ]
    }
   ],
   "source": [
    "w_indep = independent_weight_couplings(A1,A2)\n",
    "\n",
    "d = np.sum(w_indep, axis=(2, 3))\n",
    "cost_indep = np.sum(d * c)\n",
    "print(cost_indep)\n",
    "#print(d)"
   ]
  },
  {
   "cell_type": "code",
   "execution_count": 14,
   "id": "d5b92bda",
   "metadata": {},
   "outputs": [
    {
     "name": "stdout",
     "output_type": "stream",
     "text": [
      "0.0001175463899815031\n"
     ]
    }
   ],
   "source": [
    "# Get transition matrices\n",
    "P1 = adj_to_trans(A1)\n",
    "P2 = adj_to_trans(A2)\n",
    "\n",
    "_, exp_cost, _, stat_dist = exact_otc(P1, P2, c)\n",
    "print(exp_cost)"
   ]
  },
  {
   "cell_type": "code",
   "execution_count": 59,
   "id": "f1128f24",
   "metadata": {},
   "outputs": [],
   "source": [
    "n = 7\n",
    "\n",
    "# Construct adjacency matrices\n",
    "#A1 = stochastic_block_model([n,n], np.array([[0.8, 0.2], [0.2, 0.8]]))\n",
    "\n",
    "A1 = np.array([[0, 1, 0, 0, 0, 0, 0, 0, 1, 0], \n",
    "               [1, 0, 1, 0, 0, 0, 0, 0, 0, 0], \n",
    "               [0, 1, 0, 1, 0, 0, 0, 0, 0, 0], \n",
    "               [0, 0, 1, 0, 0, 0, 0, 0, 0, 1], \n",
    "               [0, 0, 0, 0, 0, 1, 0, 0, 0, 1], \n",
    "               [0, 0, 0, 0, 1, 0, 1, 0, 0, 0], \n",
    "               [0, 0, 0, 0, 0, 1, 0, 1, 0, 0], \n",
    "               [0, 0, 0, 0, 0, 0, 1, 0, 1, 0], \n",
    "               [1, 0, 0, 0, 0, 0, 0, 1, 0, 1], \n",
    "               [0, 0, 0, 1, 1, 0, 0, 0, 1, 0]])\n",
    "\n",
    "A2 = stochastic_block_model([n,n], np.array([[0.7, 0.3], [0.3, 0.7]]))\n",
    "A1 = A1 / np.sum(A1)\n",
    "A2 = A2 / np.sum(A2)\n",
    "c = get_degree_cost(A1, A2)"
   ]
  },
  {
   "cell_type": "code",
   "execution_count": 60,
   "id": "27db2651",
   "metadata": {},
   "outputs": [
    {
     "name": "stdout",
     "output_type": "stream",
     "text": [
      "0.001510294346576899\n"
     ]
    }
   ],
   "source": [
    "_, exp_cost, weight = glop_v2(A1, A2, c, vertex=True)\n",
    "print(exp_cost)\n",
    "# print(weight)"
   ]
  },
  {
   "cell_type": "code",
   "execution_count": 61,
   "id": "6f232b2d",
   "metadata": {},
   "outputs": [
    {
     "name": "stdout",
     "output_type": "stream",
     "text": [
      "0.0015102943465768797\n"
     ]
    }
   ],
   "source": [
    "w_indep = independent_weight_couplings(A1,A2)\n",
    "\n",
    "d = np.sum(w_indep, axis=(2, 3))\n",
    "cost_indep = np.sum(d * c)\n",
    "print(cost_indep)\n",
    "# print(d)"
   ]
  },
  {
   "cell_type": "code",
   "execution_count": 62,
   "id": "90a81e60",
   "metadata": {},
   "outputs": [
    {
     "name": "stdout",
     "output_type": "stream",
     "text": [
      "0.0010722064984928284\n"
     ]
    }
   ],
   "source": [
    "# Get transition matrices\n",
    "P1 = adj_to_trans(A1)\n",
    "P2 = adj_to_trans(A2)\n",
    "\n",
    "_, exp_cost, _, stat_dist = exact_otc(P1, P2, c)\n",
    "print(exp_cost)"
   ]
  },
  {
   "cell_type": "code",
   "execution_count": 13,
   "id": "f5c74b2b",
   "metadata": {},
   "outputs": [
    {
     "name": "stdout",
     "output_type": "stream",
     "text": [
      "30 30\n"
     ]
    }
   ],
   "source": [
    "### Simulation Erdos-Renyi\n",
    "\n",
    "n_equal = 0\n",
    "n_total = 0\n",
    "for _ in range(30):\n",
    "    try:\n",
    "        n1 = 5 + randint(1, 7)\n",
    "        n2 = 5 + randint(1, 7)\n",
    "        p1 = 0.5 + randint(1, 4) * 0.1\n",
    "        p2 = 0.5 + randint(1, 4) * 0.1\n",
    "\n",
    "        A1 = stochastic_block_model([n1], np.array([[p1]]))\n",
    "        A2 = stochastic_block_model([n2], np.array([[p2]]))\n",
    "        A1 = A1 / np.sum(A1)\n",
    "        A2 = A2 / np.sum(A2)\n",
    "        c = get_degree_cost(A1, A2)\n",
    "        _, exp_cost, weight = glop_v2(A1, A2, c)\n",
    "\n",
    "        w_indep = independent_weight_couplings(A1, A2)\n",
    "        d = np.sum(w_indep, axis=(2, 3))\n",
    "        cost_indep = np.sum(d * c)\n",
    "\n",
    "        if abs(exp_cost - cost_indep) <= 1e-9:\n",
    "            n_equal +=1 \n",
    "        else:\n",
    "            print(\"Different costs\")\n",
    "            print(exp_cost, cost_indep)\n",
    "        n_total += 1\n",
    "    except:\n",
    "        continue\n",
    "print(n_equal, n_total)"
   ]
  },
  {
   "cell_type": "code",
   "execution_count": 22,
   "id": "1c2e036f",
   "metadata": {},
   "outputs": [
    {
     "name": "stderr",
     "output_type": "stream",
     "text": [
      "/var/folders/91/sl4wc9t14t7dxt0p21446nrr0000gn/T/ipykernel_35217/685775115.py:15: RuntimeWarning: invalid value encountered in divide\n",
      "  A2 = A2 / np.sum(A2)\n"
     ]
    },
    {
     "name": "stdout",
     "output_type": "stream",
     "text": [
      "The adjacency matrix is not symmetric.\n",
      "The adjacency matrix is not symmetric.\n",
      "The adjacency matrix is not symmetric.\n"
     ]
    },
    {
     "name": "stderr",
     "output_type": "stream",
     "text": [
      "/var/folders/91/sl4wc9t14t7dxt0p21446nrr0000gn/T/ipykernel_35217/685775115.py:14: RuntimeWarning: invalid value encountered in divide\n",
      "  A1 = A1 / np.sum(A1)\n"
     ]
    },
    {
     "name": "stdout",
     "output_type": "stream",
     "text": [
      "The adjacency matrix is not symmetric.\n",
      "The adjacency matrix is not symmetric.\n",
      "The adjacency matrix is not symmetric.\n",
      "The adjacency matrix is not symmetric.\n",
      "The adjacency matrix is not symmetric.\n",
      "The adjacency matrix is not symmetric.\n",
      "The adjacency matrix is not symmetric.\n"
     ]
    },
    {
     "name": "stderr",
     "output_type": "stream",
     "text": [
      "/var/folders/91/sl4wc9t14t7dxt0p21446nrr0000gn/T/ipykernel_35217/685775115.py:14: RuntimeWarning: divide by zero encountered in divide\n",
      "  A1 = A1 / np.sum(A1)\n"
     ]
    },
    {
     "name": "stdout",
     "output_type": "stream",
     "text": [
      "The adjacency matrix is not symmetric.\n",
      "138 211\n"
     ]
    }
   ],
   "source": [
    "### Simulation Erdos-Renyi\n",
    "\n",
    "n_equal = 0\n",
    "n_total = 0\n",
    "for _ in range(500):\n",
    "    try:\n",
    "        n1 = 5 + randint(1, 7)\n",
    "        n2 = 5 + randint(1, 7)\n",
    "        p1 = randint(1, 4) * 0.1\n",
    "        p2 = randint(1, 4) * 0.1\n",
    "\n",
    "        A1 = stochastic_block_model([n1], np.array([[p1]]))\n",
    "        A2 = stochastic_block_model([n2], np.array([[p2]]))\n",
    "        A1 = A1 / np.sum(A1)\n",
    "        A2 = A2 / np.sum(A2)\n",
    "        c = get_degree_cost(A1, A2)\n",
    "        _, exp_cost, weight = glop_v2(A1, A2, c)\n",
    "\n",
    "        w_indep = independent_weight_couplings(A1, A2)\n",
    "        d = np.sum(w_indep, axis=(2, 3))\n",
    "        cost_indep = np.sum(d * c)\n",
    "\n",
    "        if abs(exp_cost - cost_indep) <= 1e-9:\n",
    "            n_equal +=1 \n",
    "        # else:\n",
    "        #     print(\"Different costs\")\n",
    "        #     print(exp_cost, cost_indep)\n",
    "        n_total += 1\n",
    "    except:\n",
    "        continue\n",
    "print(n_equal, n_total)"
   ]
  },
  {
   "cell_type": "code",
   "execution_count": 23,
   "id": "2f376f4f",
   "metadata": {},
   "outputs": [
    {
     "name": "stderr",
     "output_type": "stream",
     "text": [
      "/var/folders/91/sl4wc9t14t7dxt0p21446nrr0000gn/T/ipykernel_35217/3655473358.py:15: RuntimeWarning: invalid value encountered in divide\n",
      "  A2 = A2 / np.sum(A2)\n"
     ]
    },
    {
     "name": "stdout",
     "output_type": "stream",
     "text": [
      "The adjacency matrix is not symmetric.\n",
      "The adjacency matrix is not symmetric.\n"
     ]
    },
    {
     "name": "stderr",
     "output_type": "stream",
     "text": [
      "/var/folders/91/sl4wc9t14t7dxt0p21446nrr0000gn/T/ipykernel_35217/3655473358.py:14: RuntimeWarning: invalid value encountered in divide\n",
      "  A1 = A1 / np.sum(A1)\n"
     ]
    },
    {
     "name": "stdout",
     "output_type": "stream",
     "text": [
      "The adjacency matrix is not symmetric.\n",
      "The adjacency matrix is not symmetric.\n",
      "69 140\n"
     ]
    }
   ],
   "source": [
    "### Simulation Erdos-Renyi\n",
    "\n",
    "n_equal = 0\n",
    "n_total = 0\n",
    "for _ in range(500):\n",
    "    try:\n",
    "        n1 = 5 + randint(1, 7)\n",
    "        n2 = 5 + randint(1, 7)\n",
    "        p1 = 0.2\n",
    "        p2 = 0.2\n",
    "\n",
    "        A1 = stochastic_block_model([n1], np.array([[p1]]))\n",
    "        A2 = stochastic_block_model([n2], np.array([[p2]]))\n",
    "        A1 = A1 / np.sum(A1)\n",
    "        A2 = A2 / np.sum(A2)\n",
    "        c = get_degree_cost(A1, A2)\n",
    "        _, exp_cost, weight = glop_v2(A1, A2, c)\n",
    "\n",
    "        w_indep = independent_weight_couplings(A1, A2)\n",
    "        d = np.sum(w_indep, axis=(2, 3))\n",
    "        cost_indep = np.sum(d * c)\n",
    "\n",
    "        if abs(exp_cost - cost_indep) <= 1e-9:\n",
    "            n_equal +=1 \n",
    "        # else:\n",
    "        #     print(\"Different costs\")\n",
    "        #     print(exp_cost, cost_indep)\n",
    "        n_total += 1\n",
    "    except:\n",
    "        continue\n",
    "print(n_equal, n_total)"
   ]
  },
  {
   "cell_type": "code",
   "execution_count": null,
   "id": "1ec5f022",
   "metadata": {},
   "outputs": [],
   "source": [
    "### Simulation Erdos-Renyi\n",
    "\n",
    "n_equal = 0\n",
    "n_total = 0\n",
    "for _ in range(30):\n",
    "    try:\n",
    "        n1 = 5 + randint(1, 7)\n",
    "        n2 = 5 + randint(1, 7)\n",
    "        p1 = 0.2\n",
    "        p2 = 0.2\n",
    "\n",
    "        A1 = stochastic_block_model([n1, n1], np.array([[p1]]))\n",
    "        A2 = stochastic_block_model([n2, n2], np.array([[p2]]))\n",
    "        A1 = A1 / np.sum(A1)\n",
    "        A2 = A2 / np.sum(A2)\n",
    "        c = get_degree_cost(A1, A2)\n",
    "        _, exp_cost, weight = glop_v2(A1, A2, c)\n",
    "\n",
    "        w_indep = independent_weight_couplings(A1, A2)\n",
    "        d = np.sum(w_indep, axis=(2, 3))\n",
    "        cost_indep = np.sum(d * c)\n",
    "\n",
    "        if abs(exp_cost - cost_indep) <= 1e-9:\n",
    "            n_equal +=1 \n",
    "        else:\n",
    "            print(\"Different costs\")\n",
    "            print(exp_cost, cost_indep)\n",
    "        n_total += 1\n",
    "    except:\n",
    "        continue\n",
    "print(n_equal, n_total)"
   ]
  }
 ],
 "metadata": {
  "kernelspec": {
   "display_name": "NetOTC",
   "language": "python",
   "name": "python3"
  },
  "language_info": {
   "codemirror_mode": {
    "name": "ipython",
    "version": 3
   },
   "file_extension": ".py",
   "mimetype": "text/x-python",
   "name": "python",
   "nbconvert_exporter": "python",
   "pygments_lexer": "ipython3",
   "version": "3.9.18"
  }
 },
 "nbformat": 4,
 "nbformat_minor": 5
}
