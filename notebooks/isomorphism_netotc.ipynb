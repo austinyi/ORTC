{
 "cells": [
  {
   "cell_type": "code",
   "execution_count": 1,
   "metadata": {},
   "outputs": [],
   "source": [
    "import sys\n",
    "import os\n",
    "sys.path.append(os.path.abspath('../'))\n",
    "\n",
    "import numpy as np\n",
    "from random import randint\n",
    "import math\n",
    "\n",
    "from ortc.utils import *\n",
    "from ortc.glop_v2 import glop_v2\n",
    "from otc.exactOTC import exact_otc\n",
    "from otc.exactOTC import exact_otc2\n",
    "from otc.exactOTC import * \n",
    "\n",
    "from experiment.isomorphism import *"
   ]
  },
  {
   "cell_type": "code",
   "execution_count": 11,
   "metadata": {},
   "outputs": [
    {
     "name": "stdout",
     "output_type": "stream",
     "text": [
      "True True True False\n"
     ]
    }
   ],
   "source": [
    "A1 = random_lollipop_fill(7, 10)\n",
    "n = A1.shape[0]\n",
    "\n",
    "# Random permutation\n",
    "perm = np.random.permutation(n)\n",
    "A2 = A1[np.ix_(perm, perm)]\n",
    "\n",
    "# Get transition matrices\n",
    "P1 = adj_to_trans(A1)\n",
    "P2 = adj_to_trans(A2)\n",
    "\n",
    "# Get cost function\n",
    "c = get_degree_cost(A1, A2)\n",
    "\n",
    "# Run algorithm\n",
    "_, ortc_cost, ortc_weight = glop_v2(A1, A2, c, vertex=True)\n",
    "ortc_alignment = np.sum(ortc_weight, axis=(2, 3))\n",
    "_, otc_cost, _, otc_alignment = exact_otc(P1, P2, c)\n",
    "\n",
    "# Get alignment\n",
    "idx_ortc = np.argmax(ortc_alignment, axis=1)\n",
    "idx_otc = np.argmax(otc_alignment, axis=1)\n",
    "\n",
    "print(math.isclose(ortc_cost, 0, abs_tol=1e-9), math.isclose(otc_cost, 0, abs_tol=1e-9), check_isomorphism(idx_ortc, A1, A2), check_isomorphism(idx_otc, A1, A2))"
   ]
  },
  {
   "cell_type": "code",
   "execution_count": 14,
   "metadata": {},
   "outputs": [
    {
     "data": {
      "text/plain": [
       "True"
      ]
     },
     "execution_count": 14,
     "metadata": {},
     "output_type": "execute_result"
    }
   ],
   "source": [
    "_, otc_cost2, _, otc_alignment2 = exact_otc2(P1, P2, c)\n",
    "idx_otc2 = np.argmax(otc_alignment2, axis=1)\n",
    "check_isomorphism(idx_otc2, A1, A2)"
   ]
  },
  {
   "cell_type": "code",
   "execution_count": 15,
   "metadata": {},
   "outputs": [],
   "source": [
    "_, otc_cost, P, otc_alignment = exact_otc(P1, P2, c)"
   ]
  },
  {
   "cell_type": "code",
   "execution_count": 42,
   "metadata": {},
   "outputs": [
    {
     "data": {
      "text/plain": [
       "(array([0., 0., 0., 0., 0., 0., 0., 0., 0., 0., 0., 0., 0., 0., 0., 0., 0.,\n",
       "        0., 0., 0., 0., 0., 0., 0., 0., 0., 0., 0., 0., 0., 0., 0., 0., 0.,\n",
       "        0., 0., 0., 0., 0., 0., 0., 0., 0., 0., 0., 0., 0., 0., 0., 0., 0.,\n",
       "        0., 0., 0., 0., 0., 0., 0., 0., 0., 0., 0., 0., 0., 0., 0., 0., 0.,\n",
       "        0., 0., 0., 0., 0., 0., 0., 0., 0., 0., 0., 0., 0., 0., 0., 0., 0.,\n",
       "        0., 0., 0., 0., 0., 0., 0., 0., 0., 0., 0., 0., 0., 0., 0., 0., 0.,\n",
       "        0., 0., 0., 0., 0., 0., 0., 0., 0., 0., 0., 0., 0., 0., 0., 0., 0.,\n",
       "        0., 0., 0., 0., 0., 0., 0., 0., 0., 0., 0., 0., 0., 0., 0., 0., 0.,\n",
       "        0., 0., 0., 0., 0., 0., 0., 0., 0., 0., 0., 0., 0., 0., 0., 0., 0.,\n",
       "        0., 0., 0., 0., 0., 0., 0., 0., 0., 0., 0., 0., 0., 0., 0., 0., 0.,\n",
       "        0., 0., 0., 0., 0., 0., 0., 0., 0., 0., 0., 0., 0., 0., 0., 0., 0.,\n",
       "        0., 0., 0., 0., 0., 0., 0., 0., 0., 0., 0., 0., 0., 0., 0., 0., 0.,\n",
       "        0., 0., 0., 0., 0., 0., 0., 0., 0., 0., 0., 0., 0., 0., 0., 0., 0.,\n",
       "        0., 0., 0., 0.]),\n",
       " 0.0)"
      ]
     },
     "execution_count": 42,
     "metadata": {},
     "output_type": "execute_result"
    }
   ],
   "source": [
    "get_best_stat_dist(P, c)"
   ]
  },
  {
   "cell_type": "code",
   "execution_count": 46,
   "metadata": {},
   "outputs": [],
   "source": [
    "\n",
    "\n",
    "\n",
    "from scipy.linalg import solve\n",
    "# Modify P for solving\n",
    "A = P.T - np.eye(P.shape[0])\n",
    "A[-1, :] = 1  # Replace the last row with ones to represent sum(pi) = 1\n",
    "\n",
    "b = np.zeros(P.shape[0])\n",
    "b[-1] = 1  # Right-hand side for the sum(pi) = 1 constraint\n",
    "\n",
    "# Solve the system\n",
    "stationary_distribution = solve(A, b)"
   ]
  },
  {
   "cell_type": "code",
   "execution_count": 47,
   "metadata": {},
   "outputs": [
    {
     "data": {
      "text/plain": [
       "array([ 1.19577142e-17,  4.89616321e-34,  9.70074419e-18, -1.04069290e-19,\n",
       "       -0.00000000e+00, -2.44756844e-34, -4.54832002e-18,  2.05658568e-17,\n",
       "       -3.01327027e-18, -1.76084393e-18,  1.12903226e-01,  2.61041617e-18,\n",
       "       -1.62566540e-19, -6.81810615e-18, -0.00000000e+00,  8.07751617e-17,\n",
       "        9.70047654e-19, -5.13642060e-19, -6.26245493e-20,  3.16440182e-18,\n",
       "        1.08286290e-17,  9.67741935e-02,  8.82014353e-18, -6.59662626e-20,\n",
       "        3.21361120e-17, -4.00726346e-17,  3.23848339e-18,  1.12414212e-17,\n",
       "       -4.40914732e-18, -1.78018516e-17,  8.85474087e-17, -1.31933785e-17,\n",
       "       -4.52158308e-19,  8.06451613e-02,  2.76473524e-17, -1.09637338e-18,\n",
       "       -1.32625154e-20, -0.00000000e+00, -2.80442526e-21, -5.79040527e-21,\n",
       "       -5.60885053e-21, -0.00000000e+00, -1.00924977e-18,  7.90050163e-17,\n",
       "        2.86673565e-17,  6.01139908e-17,  3.46908711e-18, -7.15817481e-18,\n",
       "        1.61051548e-19,  2.57852096e-19, -1.27999815e-17,  5.19227426e-18,\n",
       "       -9.25641619e-17,  5.64591734e-18,  9.67741935e-02,  1.42124073e-19,\n",
       "        1.56231026e-19,  1.45462775e-16, -8.91353818e-19, -4.25103720e-17,\n",
       "       -1.84791455e-16,  5.96098426e-18, -8.72613390e-19,  7.60021654e-20,\n",
       "        1.27040142e-18, -2.10392168e-18, -3.93305970e-18,  1.49082023e-17,\n",
       "        2.78984463e-18, -5.71469142e-21, -2.18545509e-18, -8.84550659e-21,\n",
       "        9.67741935e-02, -1.78873794e-17,  4.62164641e-17,  3.16189289e-17,\n",
       "        7.57556049e-18, -0.00000000e+00,  4.59641883e-18,  8.06451613e-02,\n",
       "       -1.73083411e-17, -7.05178587e-20,  1.32336106e-18, -0.00000000e+00,\n",
       "        1.91345680e-18, -0.00000000e+00, -0.00000000e+00, -8.74651438e-20,\n",
       "       -9.59957461e-19,  4.76581952e-17, -3.21518071e-19, -6.61738069e-19,\n",
       "       -1.71683857e-17, -4.40010189e-22, -0.00000000e+00, -1.14182221e-19,\n",
       "        1.44642148e-18,  1.89023360e-17, -5.42316422e-18,  9.70767481e-21,\n",
       "        3.60298022e-18,  1.12903226e-01,  4.47806792e-20, -6.07999144e-18,\n",
       "       -0.00000000e+00,  2.19661041e-17, -6.52925077e-18, -7.84099500e-18,\n",
       "       -6.48869583e-20, -0.00000000e+00, -2.32656443e-18,  8.21116702e-20,\n",
       "        5.12442252e-17,  1.12903226e-01,  2.25189079e-18,  2.30483507e-19,\n",
       "        2.41865266e-19,  2.02805439e-19, -0.00000000e+00,  1.60246488e-18,\n",
       "        8.31485512e-18, -4.38507378e-19, -0.00000000e+00,  1.05539461e-19,\n",
       "        1.05766873e-19,  3.22580645e-02,  1.52931793e-19, -9.54382971e-19,\n",
       "        9.40820437e-19,  1.26845002e-19,  1.78981349e-20, -0.00000000e+00,\n",
       "        1.25481965e-19,  5.99552019e-19,  2.05276418e-18,  8.23785910e-19,\n",
       "       -0.00000000e+00,  1.94852785e-18,  1.91068657e-19,  1.78981349e-19,\n",
       "        1.02174093e-18,  1.88289798e-19,  1.74983325e-18, -0.00000000e+00,\n",
       "        2.30169348e-19,  1.34244108e-19,  1.44950945e-19,  2.18828973e-19,\n",
       "        3.22580645e-02,  4.15742756e-18,  3.93817387e-18,  3.29750368e-18,\n",
       "        3.22580645e-02,  2.01518849e-19, -0.00000000e+00, -0.00000000e+00,\n",
       "        3.01393398e-20,  1.37297652e-19,  2.12220345e-19,  4.30351664e-20,\n",
       "        3.87844253e-19,  3.71888075e-19,  1.99425038e-20,  1.77467603e-18,\n",
       "        4.11892955e-19,  2.74595303e-19,  3.22580645e-02,  2.52761112e-18,\n",
       "        4.19434193e-20,  3.13563246e-19,  6.06487620e-20,  3.44201438e-19,\n",
       "        4.64647952e-18,  1.50672570e-19,  2.34903831e-19,  5.02322329e-21,\n",
       "        1.18023109e-20,  8.38850850e-20, -0.00000000e+00,  1.96908694e-18,\n",
       "        5.99545535e-18,  3.28054622e-18, -0.00000000e+00, -0.00000000e+00,\n",
       "        4.62978320e-20,  5.32397582e-20,  5.53091308e-20,  3.22580645e-02,\n",
       "        3.10300036e-19,  1.40793986e-19,  1.23109770e-19,  1.53773514e-19,\n",
       "        2.83212072e-19,  6.06631397e-20,  1.37297652e-19,  3.22580645e-02,\n",
       "        2.18068535e-20,  6.06775174e-20,  1.10307600e-19,  2.01894121e-20,\n",
       "        5.90828931e-20,  3.36350810e-20,  4.03348131e-18,  2.17440152e-19,\n",
       "        4.63623258e-20,  2.46109706e-19,  2.36825184e-19,  1.12694511e-19,\n",
       "        6.34302105e-20,  5.37534425e-18,  4.75523314e-18,  3.11832623e-20,\n",
       "        4.36137071e-20,  8.46578274e-20,  1.54300292e-19,  3.00069558e-20,\n",
       "        1.57037482e-19, -0.00000000e+00, -0.00000000e+00,  8.06740136e-20,\n",
       "       -0.00000000e+00,  1.91942960e-21,  1.79018543e-20,  2.95086329e-20,\n",
       "        1.61290323e-02])"
      ]
     },
     "execution_count": 47,
     "metadata": {},
     "output_type": "execute_result"
    }
   ],
   "source": [
    "stationary_distribution"
   ]
  },
  {
   "cell_type": "code",
   "execution_count": 37,
   "metadata": {},
   "outputs": [
    {
     "name": "stdout",
     "output_type": "stream",
     "text": [
      "2\n"
     ]
    }
   ],
   "source": [
    "n = P.shape[0]\n",
    "c = c.reshape(n, -1).flatten()  \n",
    "\n",
    "Aeq = np.vstack([P.T - np.eye(n), np.ones((1, n))])\n",
    "beq = np.hstack([np.zeros(n), [1]])\n",
    "\n",
    "# Create the linear solver with the GLOP \n",
    "solver = pywraplp.Solver.CreateSolver('GLOP')\n",
    "\n",
    "# Decision variables: stat_dist[i]\n",
    "stat_dist = [solver.NumVar(0.0, solver.infinity(), f'stat_dist_{i}') for i in range(Aeq.shape[1])]\n",
    "\n",
    "constraints = []\n",
    "\n",
    "# Constraints: (P' - I) * stat_dist = 0\n",
    "for i in range(Aeq.shape[0]):\n",
    "    constraints.append(solver.Constraint(beq[i], beq[i]))\n",
    "    for j in range(Aeq.shape[1]):\n",
    "        constraints[-1].SetCoefficient(stat_dist[j], Aeq[i][j])\n",
    "    # solver.Add(constraint_expr == beq[i])\n",
    "\n",
    "# Constraint: sum(stat_dist) == 1\n",
    "# solver.Add(solver.Sum(stat_dist) == 1)\n",
    "\n",
    "# Create objective function\n",
    "solver.Minimize(solver.Sum(stat_dist * c))\n",
    "\n",
    "# Solve the problem.\n",
    "status = solver.Solve()\n",
    "print(status)\n",
    "    "
   ]
  },
  {
   "cell_type": "code",
   "execution_count": 35,
   "metadata": {},
   "outputs": [
    {
     "name": "stdout",
     "output_type": "stream",
     "text": [
      "[0. 0. 0. 0. 0. 0. 0. 0. 0. 0. 0. 0. 0. 0. 0. 0. 0. 0. 0. 0. 0. 0. 0. 0.\n",
      " 0. 0. 0. 0. 0. 0. 0. 0. 0. 0. 0. 0. 0. 0. 0. 0. 0. 0. 0. 0. 0. 0. 0. 0.\n",
      " 0. 0. 0. 0. 0. 0. 0. 0. 0. 0. 0. 0. 0. 0. 0. 0. 0. 0. 0. 0. 0. 0. 0. 0.\n",
      " 0. 0. 0. 0. 0. 0. 0. 0. 0. 0. 0. 0. 0. 0. 0. 0. 0. 0. 0. 0. 0. 0. 0. 0.\n",
      " 0. 0. 0. 0. 0. 0. 0. 0. 0. 0. 0. 0. 0. 0. 0. 0. 0. 0. 0. 0. 0. 0. 0. 0.\n",
      " 0. 0. 0. 0. 0. 0. 0. 0. 0. 0. 0. 0. 0. 0. 0. 0. 0. 0. 0. 0. 0. 0. 0. 0.\n",
      " 0. 0. 0. 0. 0. 0. 0. 0. 0. 0. 0. 0. 0. 0. 0. 0. 0. 0. 0. 0. 0. 0. 0. 0.\n",
      " 0. 0. 0. 0. 0. 0. 0. 0. 0. 0. 0. 0. 0. 0. 0. 0. 0. 0. 0. 0. 0. 0. 0. 0.\n",
      " 0. 0. 0. 0. 0. 0. 0. 0. 0. 0. 0. 0. 0. 0. 0. 0. 0. 0. 0. 0. 0. 0. 0. 0.\n",
      " 0. 0. 0. 0. 0. 0. 0. 0. 0. 0. 0. 0. 0. 0. 0. 0. 0. 0. 0. 0. 0. 0. 0. 0.\n",
      " 0. 0. 0. 0. 0. 0. 0. 0. 0. 0. 0. 0. 0. 0. 0. 0. 0. 0. 0. 0. 0. 0. 0. 0.\n",
      " 0. 0. 0. 0. 0. 0. 0. 0. 0. 0. 0. 0. 0. 0. 0. 0. 0. 0. 0. 0. 0. 0. 0. 0.\n",
      " 0.] 0.0\n"
     ]
    }
   ],
   "source": [
    "if status == pywraplp.Solver.OPTIMAL:\n",
    "    stat_dist_values = np.array([var.solution_value() for var in stat_dist])\n",
    "    exp_cost = solver.Objective().Value()\n",
    "    print(stat_dist_values, exp_cost)"
   ]
  },
  {
   "cell_type": "code",
   "execution_count": 19,
   "metadata": {},
   "outputs": [
    {
     "name": "stdout",
     "output_type": "stream",
     "text": [
      "1.0000000000000003e-10 [0. 0. 0. 0. 0. 0. 0. 0. 0. 0. 0. 0. 0. 0. 0. 0. 0. 0. 0. 0. 0. 0. 0. 0.\n",
      " 0. 0. 0. 0. 0. 0. 0. 0. 0. 0. 0. 0. 0. 0. 0. 0. 0. 0. 0. 0. 0. 0. 0. 0.\n",
      " 0. 0. 0. 0. 0. 0. 0. 0. 0. 0. 0. 0. 0. 0. 0. 0. 0. 0. 0. 0. 0. 0. 0. 0.\n",
      " 0. 0. 0. 0. 0. 0. 0. 0. 0. 0. 0. 0. 0. 0. 0. 0. 0. 0. 0. 0. 0. 0. 0. 0.\n",
      " 0. 0. 0. 0. 0. 0. 0. 0. 0. 0. 0. 0. 0. 0. 0. 0. 0. 0. 0. 0. 0. 0. 0. 0.\n",
      " 0. 0. 0. 0. 0. 0. 0. 0. 0. 0. 0. 0. 0. 0. 0. 0. 0. 0. 0. 0. 0. 0. 0. 0.\n",
      " 0. 0. 0. 0. 0. 0. 0. 0. 0. 0. 0. 0. 0. 0. 0. 0. 0. 0. 0. 0. 0. 0. 0. 0.\n",
      " 0. 0. 0. 0. 0. 0. 0. 0. 0. 0. 0. 0. 0. 0. 0. 0. 0. 0. 0. 0. 0. 0. 0. 0.\n",
      " 0. 0. 0. 0. 0. 0. 0. 0. 0. 0. 0. 0. 0. 0. 0. 0. 0. 0. 0. 0. 0. 0. 0. 0.\n",
      " 0. 0. 0. 0. 0. 0. 0. 0. 0. 0. 0. 0. 0. 0. 0. 0. 0. 0. 0. 0. 0. 0. 0. 0.\n",
      " 0. 0. 0. 0. 0. 0. 0. 0. 0. 0. 0. 0. 0. 0. 0. 0. 0. 0. 0. 0. 0. 0. 0. 0.\n",
      " 0. 0. 0. 0. 0. 0. 0. 0. 0. 0. 0. 0. 0. 0. 0. 0. 0. 0. 0. 0. 0. 0. 0. 0.\n",
      " 0.] 0.0\n",
      "1.0000000000000003e-11 [0. 0. 0. 0. 0. 0. 0. 0. 0. 0. 0. 0. 0. 0. 0. 0. 0. 0. 0. 0. 0. 0. 0. 0.\n",
      " 0. 0. 0. 0. 0. 0. 0. 0. 0. 0. 0. 0. 0. 0. 0. 0. 0. 0. 0. 0. 0. 0. 0. 0.\n",
      " 0. 0. 0. 0. 0. 0. 0. 0. 0. 0. 0. 0. 0. 0. 0. 0. 0. 0. 0. 0. 0. 0. 0. 0.\n",
      " 0. 0. 0. 0. 0. 0. 0. 0. 0. 0. 0. 0. 0. 0. 0. 0. 0. 0. 0. 0. 0. 0. 0. 0.\n",
      " 0. 0. 0. 0. 0. 0. 0. 0. 0. 0. 0. 0. 0. 0. 0. 0. 0. 0. 0. 0. 0. 0. 0. 0.\n",
      " 0. 0. 0. 0. 0. 0. 0. 0. 0. 0. 0. 0. 0. 0. 0. 0. 0. 0. 0. 0. 0. 0. 0. 0.\n",
      " 0. 0. 0. 0. 0. 0. 0. 0. 0. 0. 0. 0. 0. 0. 0. 0. 0. 0. 0. 0. 0. 0. 0. 0.\n",
      " 0. 0. 0. 0. 0. 0. 0. 0. 0. 0. 0. 0. 0. 0. 0. 0. 0. 0. 0. 0. 0. 0. 0. 0.\n",
      " 0. 0. 0. 0. 0. 0. 0. 0. 0. 0. 0. 0. 0. 0. 0. 0. 0. 0. 0. 0. 0. 0. 0. 0.\n",
      " 0. 0. 0. 0. 0. 0. 0. 0. 0. 0. 0. 0. 0. 0. 0. 0. 0. 0. 0. 0. 0. 0. 0. 0.\n",
      " 0. 0. 0. 0. 0. 0. 0. 0. 0. 0. 0. 0. 0. 0. 0. 0. 0. 0. 0. 0. 0. 0. 0. 0.\n",
      " 0. 0. 0. 0. 0. 0. 0. 0. 0. 0. 0. 0. 0. 0. 0. 0. 0. 0. 0. 0. 0. 0. 0. 0.\n",
      " 0.] 0.0\n"
     ]
    }
   ],
   "source": [
    "n = P.shape[0]\n",
    "c = c.reshape(n, -1).flatten()  \n",
    "\n",
    "Aeq = np.vstack([P.T - np.eye(n), np.ones((1, n))])\n",
    "beq = np.hstack([np.zeros(n), [1]])\n",
    "\n",
    "\n",
    "# Create the linear solver with the GLOP \n",
    "solver = pywraplp.Solver.CreateSolver('GLOP')\n",
    "\n",
    "# Decision variables: stat_dist[i]\n",
    "stat_dist = [solver.NumVar(0.0, solver.infinity(), f'stat_dist_{i}') for i in range(n)]\n",
    "\n",
    "# Constraints: (P' - I) * stat_dist = 0\n",
    "for i in range(n):\n",
    "    constraint_expr = solver.Sum((P[j, i] - (1.0 if i == j else 0.0)) * stat_dist[j] for j in range(n))\n",
    "    solver.Add(constraint_expr == 0)\n",
    "\n",
    "# Constraint: sum(stat_dist) == 1\n",
    "solver.Add(solver.Sum(stat_dist) == 1)\n",
    "\n",
    "# Create objective function\n",
    "solver.Minimize(solver.Sum(stat_dist * c))\n",
    "\n",
    "# Solve the problem.\n",
    "status = solver.Solve()\n",
    "\n",
    "# if status == pywraplp.Solver.OPTIMAL:\n",
    "#     stat_dist_values = np.array([var.solution_value() for var in stat_dist])\n",
    "#     exp_cost = solver.Objective().Value()\n",
    "#         # return stat_dist_values, exp_cost\n",
    "# else:\n",
    "#     # In case the solver fails, try rescaling constraints.\n",
    "#     alpha = 1\n",
    "#     while alpha >= 1e-10:\n",
    "#         alpha /= 10\n",
    "#         # Create a new solver instance to reset all variables and constraints.\n",
    "#         solver = pywraplp.Solver.CreateSolver('GLOP')\n",
    "\n",
    "#         # Decision variables: stat_dist[i]\n",
    "#         stat_dist = [solver.NumVar(0.0, solver.infinity(), f'stat_dist_{i}') for i in range(n)]\n",
    "\n",
    "#         # Constraints: alpha * (P' - I) * stat_dist = 0\n",
    "#         for i in range(n):\n",
    "#             constraint_expr = solver.Sum(alpha * (P[j, i] - (1.0 if i == j else 0.0)) * stat_dist[j] for j in range(n))\n",
    "#             solver.Add(constraint_expr == 0)\n",
    "\n",
    "#         # Constraint: alpha * sum(stat_dist) == alpha\n",
    "#         solver.Add(solver.Sum([alpha * var for var in stat_dist]) == alpha)\n",
    "\n",
    "#         # Create objective function\n",
    "#         solver.Minimize(solver.Sum(stat_dist * c))\n",
    "\n",
    "#         # Solve the problem again.\n",
    "#         status = solver.Solve()\n",
    "#         if status == pywraplp.Solver.OPTIMAL:\n",
    "#             stat_dist_values = np.array([var.solution_value() for var in stat_dist])\n",
    "#             exp_cost = solver.Objective().Value()\n",
    "#             print(alpha, stat_dist_values, exp_cost)\n",
    "\n",
    "#     # If still no solution, raise an error.\n",
    "#     # raise ValueError('Failed to compute stationary distribution.')"
   ]
  },
  {
   "cell_type": "code",
   "execution_count": 66,
   "metadata": {},
   "outputs": [
    {
     "data": {
      "text/plain": [
       "array([[-1.,  0.,  0., ...,  0.,  0.,  0.],\n",
       "       [ 0., -1.,  0., ...,  0.,  0.,  0.],\n",
       "       [ 0.,  0., -1., ...,  0.,  0.,  0.],\n",
       "       ...,\n",
       "       [ 0.,  0.,  0., ...,  0., -1.,  0.],\n",
       "       [ 0.,  0.,  0., ...,  0.,  0., -1.],\n",
       "       [ 1.,  1.,  1., ...,  1.,  1.,  1.]])"
      ]
     },
     "execution_count": 66,
     "metadata": {},
     "output_type": "execute_result"
    }
   ],
   "source": [
    "n = P.shape[0]\n",
    "c = c.reshape(n, -1).flatten()  # Ensure c is a flat array of length n\n",
    "\n",
    "Aeq = np.vstack([P.T - np.eye(n), np.ones((1, n))])\n",
    "Aeq"
   ]
  },
  {
   "cell_type": "code",
   "execution_count": 50,
   "metadata": {},
   "outputs": [],
   "source": [
    "import numpy as np\n",
    "from scipy.optimize import linprog\n",
    "\n",
    "def get_best_stat_dist2(P, c):\n",
    "    # Set up constraints.\n",
    "    n = P.shape[0]\n",
    "    c = c.reshape(n, -1).flatten()  # Ensure c is a flat array of length n\n",
    "\n",
    "    Aeq = np.vstack([P.T - np.eye(n), np.ones((1, n))])\n",
    "    beq = np.hstack([np.zeros(n), [1]])\n",
    "\n",
    "    # Define lower bounds\n",
    "    lb = np.zeros(n)\n",
    "    bounds = [(lb_i, None) for lb_i in lb]  # Upper bounds are None (unbounded)\n",
    "\n",
    "    # Define options.\n",
    "    options = {'disp': False, 'presolve': False}\n",
    "\n",
    "    # Solve linear program.\n",
    "    res = linprog(c, A_eq=Aeq, b_eq=beq, bounds=bounds, method='highs', options=options)\n",
    "\n",
    "    if res.success:\n",
    "        stat_dist = res.x\n",
    "        exp_cost = res.fun\n",
    "    else:\n",
    "        stat_dist = None\n",
    "        exp_cost = None\n",
    "\n",
    "    return stat_dist, exp_cost\n"
   ]
  },
  {
   "cell_type": "code",
   "execution_count": 56,
   "metadata": {},
   "outputs": [],
   "source": [
    "otc_alignment3, _= get_best_stat_dist2(P, c)\n",
    "otc_alignment3 = otc_alignment3.reshape(15, 15)\n"
   ]
  },
  {
   "cell_type": "code",
   "execution_count": 64,
   "metadata": {},
   "outputs": [
    {
     "data": {
      "text/plain": [
       "array([[ 0.        ,  0.        ,  0.        ,  0.        ,  0.        ,\n",
       "         0.        ,  0.        ,  0.        , -0.        ,  0.        ,\n",
       "         0.11290323,  0.        ,  0.        ,  0.        ,  0.        ],\n",
       "       [ 0.        ,  0.        ,  0.        ,  0.        ,  0.        ,\n",
       "         0.        ,  0.09677419,  0.        ,  0.        , -0.        ,\n",
       "         0.        ,  0.        , -0.        ,  0.        ,  0.        ],\n",
       "       [ 0.        ,  0.        ,  0.        ,  0.08064516, -0.        ,\n",
       "         0.        ,  0.        ,  0.        ,  0.        ,  0.        ,\n",
       "         0.        ,  0.        ,  0.        ,  0.        ,  0.        ],\n",
       "       [ 0.        ,  0.        ,  0.        ,  0.        ,  0.        ,\n",
       "         0.        , -0.        ,  0.        ,  0.        ,  0.09677419,\n",
       "         0.        ,  0.        , -0.        ,  0.        ,  0.        ],\n",
       "       [ 0.        ,  0.        ,  0.        ,  0.        ,  0.        ,\n",
       "         0.        , -0.        ,  0.        ,  0.        ,  0.        ,\n",
       "         0.        ,  0.        ,  0.09677419,  0.        ,  0.        ],\n",
       "       [ 0.        ,  0.        ,  0.        , -0.        ,  0.08064516,\n",
       "         0.        ,  0.        ,  0.        ,  0.        ,  0.        ,\n",
       "         0.        ,  0.        ,  0.        ,  0.        ,  0.        ],\n",
       "       [ 0.        ,  0.        ,  0.        ,  0.        ,  0.        ,\n",
       "         0.        ,  0.        ,  0.        , -0.        ,  0.        ,\n",
       "        -0.        ,  0.11290323,  0.        ,  0.        ,  0.        ],\n",
       "       [ 0.        ,  0.        ,  0.        ,  0.        ,  0.        ,\n",
       "         0.        ,  0.        ,  0.        ,  0.11290323,  0.        ,\n",
       "        -0.        , -0.        ,  0.        ,  0.        ,  0.        ],\n",
       "       [-0.        , -0.        ,  0.        ,  0.        ,  0.        ,\n",
       "         0.03225806,  0.        ,  0.        ,  0.        ,  0.        ,\n",
       "         0.        ,  0.        ,  0.        ,  0.        ,  0.        ],\n",
       "       [ 0.        ,  0.        ,  0.        ,  0.        ,  0.        ,\n",
       "         0.        ,  0.        , -0.        ,  0.        ,  0.        ,\n",
       "         0.        ,  0.        ,  0.        ,  0.03225806,  0.        ],\n",
       "       [-0.        ,  0.        ,  0.03225806,  0.        ,  0.        ,\n",
       "        -0.        ,  0.        , -0.        ,  0.        ,  0.        ,\n",
       "         0.        ,  0.        ,  0.        ,  0.        ,  0.        ],\n",
       "       [-0.        ,  0.03225806,  0.        ,  0.        ,  0.        ,\n",
       "        -0.        ,  0.        , -0.        ,  0.        ,  0.        ,\n",
       "         0.        ,  0.        ,  0.        ,  0.        ,  0.        ],\n",
       "       [-0.        , -0.        ,  0.        ,  0.        ,  0.        ,\n",
       "        -0.        ,  0.        ,  0.03225806,  0.        ,  0.        ,\n",
       "         0.        ,  0.        ,  0.        , -0.        ,  0.        ],\n",
       "       [ 0.03225806,  0.        , -0.        ,  0.        ,  0.        ,\n",
       "        -0.        ,  0.        , -0.        ,  0.        ,  0.        ,\n",
       "         0.        ,  0.        ,  0.        , -0.        ,  0.        ],\n",
       "       [ 0.        ,  0.        ,  0.        ,  0.        ,  0.        ,\n",
       "         0.        ,  0.        ,  0.        ,  0.        ,  0.        ,\n",
       "         0.        ,  0.        ,  0.        ,  0.        ,  0.01612903]])"
      ]
     },
     "execution_count": 64,
     "metadata": {},
     "output_type": "execute_result"
    }
   ],
   "source": [
    "otc_alignment3"
   ]
  },
  {
   "cell_type": "code",
   "execution_count": 57,
   "metadata": {},
   "outputs": [
    {
     "data": {
      "text/plain": [
       "True"
      ]
     },
     "execution_count": 57,
     "metadata": {},
     "output_type": "execute_result"
    }
   ],
   "source": [
    "idx_otc3 = np.argmax(otc_alignment3, axis=1)\n",
    "check_isomorphism(idx_otc3, A1, A2)"
   ]
  },
  {
   "cell_type": "code",
   "execution_count": null,
   "metadata": {},
   "outputs": [],
   "source": [
    "_, otc_cost2, _, otc_alignment2 = exact_otc2(P1, P2, c)\n",
    "idx_otc2 = np.argmax(otc_alignment2, axis=1)\n",
    "check_isomorphism(idx_otc2, A1, A2)"
   ]
  },
  {
   "cell_type": "code",
   "execution_count": 35,
   "metadata": {},
   "outputs": [
    {
     "data": {
      "text/plain": [
       "array([-7.81621119e-16,  1.87480830e-26, -6.94141692e-16, -7.52078361e-19,\n",
       "       -0.00000000e+00, -1.58370037e-26, -1.29175431e-17, -5.32081574e-16,\n",
       "       -1.18478564e-16, -7.65012001e-18,  1.12903226e-01, -4.60418034e-18,\n",
       "       -9.36871620e-19, -2.89184701e-16, -0.00000000e+00, -1.67947143e-16,\n",
       "       -6.29305344e-16, -2.12460077e-17, -9.29457923e-19,  3.26641993e-18,\n",
       "       -2.00896907e-16,  9.67741935e-02, -4.05572054e-16, -1.79686046e-18,\n",
       "       -3.05004981e-18,  2.46213678e-19,  3.35703178e-18,  9.41457128e-18,\n",
       "       -2.24743749e-16, -3.58985481e-16, -3.94729385e-16, -1.24971864e-16,\n",
       "       -5.17882422e-16,  8.06451613e-02, -2.82434393e-18, -4.99342688e-17,\n",
       "       -1.79713504e-19, -0.00000000e+00, -6.23299700e-20, -4.88068377e-20,\n",
       "        1.60080936e-19, -0.00000000e+00, -2.71989318e-17, -3.39795538e-16,\n",
       "       -2.80433244e-16, -1.18056807e-16, -8.59294696e-16, -1.35735454e-16,\n",
       "        3.39451213e-19,  4.46469301e-19, -2.08347947e-16, -9.00297382e-18,\n",
       "       -1.78580581e-16, -2.17138944e-18,  9.67741935e-02, -5.80053135e-20,\n",
       "       -2.12114105e-20,  1.66670889e-19, -4.26589610e-17, -4.85899185e-16,\n",
       "       -4.04710966e-16, -2.81405811e-16, -3.99087540e-17,  7.84643710e-18,\n",
       "        4.07238488e-20, -9.15388374e-17, -2.17935230e-18, -8.26766689e-16,\n",
       "        2.42070932e-18,  2.96616520e-19, -2.95229884e-17,  1.05645180e-19,\n",
       "        9.67741935e-02, -3.70372919e-16, -5.53204569e-17, -7.10396909e-17,\n",
       "       -7.85908981e-16, -0.00000000e+00,  5.61244311e-19,  8.06451613e-02,\n",
       "       -1.94113649e-16, -4.31744875e-19, -1.15948022e-16, -0.00000000e+00,\n",
       "       -3.31886497e-18, -0.00000000e+00, -0.00000000e+00, -4.69946007e-19,\n",
       "       -2.04101821e-17, -5.05335152e-16, -8.03201018e-16, -4.04623100e-17,\n",
       "       -7.35403583e-16, -1.06674861e-19, -0.00000000e+00, -2.38926975e-18,\n",
       "        1.15530110e-19, -4.51736869e-16, -1.11484428e-16, -1.39191301e-19,\n",
       "        1.36192357e-18,  1.12903226e-01,  3.05883641e-18, -2.35533699e-16,\n",
       "       -0.00000000e+00, -7.67632846e-16, -2.76672577e-16, -2.38538717e-16,\n",
       "       -1.17136411e-18, -0.00000000e+00,  1.57631670e-17,  1.61893173e-18,\n",
       "       -9.33400911e-16,  1.12903226e-01,  3.18226074e-18,  2.84114831e-17,\n",
       "        2.64476771e-17,  1.02654989e-17, -0.00000000e+00, -5.25658566e-18,\n",
       "       -1.98348792e-16, -5.82903290e-17, -0.00000000e+00,  1.14094049e-17,\n",
       "        2.64037441e-17,  3.22580645e-02,  3.26971490e-17, -1.26667679e-16,\n",
       "        5.82112495e-17,  2.47957956e-17,  1.35148948e-18, -0.00000000e+00,\n",
       "        1.62640035e-17,  9.23647781e-17, -1.16343420e-16, -1.59142966e-16,\n",
       "       -0.00000000e+00,  1.83393992e-16,  3.89598008e-17,  1.54556359e-17,\n",
       "        1.20341324e-16,  1.78016591e-17, -1.24699480e-16, -0.00000000e+00,\n",
       "        3.40239262e-17,  2.62104388e-17,  2.92659803e-17,  4.22459906e-17,\n",
       "        3.22580645e-02, -9.76499202e-17, -1.16299487e-16,  2.44970511e-16,\n",
       "        3.22580645e-02,  4.93279932e-17, -0.00000000e+00, -0.00000000e+00,\n",
       "        7.39832032e-18, -1.69405719e-17,  4.32300902e-17,  9.45438558e-18,\n",
       "        8.22426106e-17,  7.52133277e-17,  4.75094408e-18,  1.73869314e-16,\n",
       "       -9.13806785e-17, -3.73957854e-17,  3.22580645e-02,  2.79484291e-16,\n",
       "        1.17037561e-17,  7.40886424e-17,  3.51464148e-19,  8.35254548e-17,\n",
       "        2.91029888e-16,  3.55681718e-17,  5.98367712e-17,  1.42342980e-18,\n",
       "        2.88200601e-18,  2.44091851e-17, -0.00000000e+00, -7.51518215e-17,\n",
       "        3.24752873e-16,  3.20675889e-16, -0.00000000e+00, -0.00000000e+00,\n",
       "        1.12117063e-17,  1.04033388e-17,  1.36368089e-17,  3.22580645e-02,\n",
       "        8.05380095e-17,  3.64292589e-17,  3.18734049e-17,  4.03568708e-17,\n",
       "        7.14175149e-17,  3.30376299e-17, -1.68702791e-17,  3.22580645e-02,\n",
       "        9.27865351e-18, -5.62342637e-19,  3.45489258e-17,  6.60478017e-18,\n",
       "        1.72063667e-17,  1.13248338e-17,  3.65733592e-16,  6.69539202e-17,\n",
       "        1.70526011e-17,  7.22083092e-17,  7.03279760e-17,  3.45181726e-17,\n",
       "        2.33372194e-17,  3.62851586e-16,  4.00528543e-16,  1.90142104e-17,\n",
       "        6.74811164e-18,  2.30252950e-17,  3.71585471e-17,  8.11003522e-18,\n",
       "        3.92673319e-17, -0.00000000e+00, -0.00000000e+00,  2.26386844e-17,\n",
       "       -0.00000000e+00,  5.51063349e-19,  4.42052831e-18,  8.15836154e-18,\n",
       "        1.61290323e-02])"
      ]
     },
     "execution_count": 35,
     "metadata": {},
     "output_type": "execute_result"
    }
   ],
   "source": [
    "get_stat_dist(P)"
   ]
  },
  {
   "cell_type": "code",
   "execution_count": null,
   "metadata": {},
   "outputs": [],
   "source": []
  }
 ],
 "metadata": {
  "kernelspec": {
   "display_name": "NetOTC",
   "language": "python",
   "name": "python3"
  },
  "language_info": {
   "codemirror_mode": {
    "name": "ipython",
    "version": 3
   },
   "file_extension": ".py",
   "mimetype": "text/x-python",
   "name": "python",
   "nbconvert_exporter": "python",
   "pygments_lexer": "ipython3",
   "version": "3.9.18"
  }
 },
 "nbformat": 4,
 "nbformat_minor": 2
}
