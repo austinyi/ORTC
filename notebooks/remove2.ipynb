{
 "cells": [
  {
   "cell_type": "code",
   "execution_count": 12,
   "metadata": {},
   "outputs": [],
   "source": [
    "import sys\n",
    "import os\n",
    "sys.path.append(os.path.abspath('../'))\n",
    "\n",
    "import numpy as np\n",
    "from random import randint\n",
    "import random\n",
    "from scipy.stats import entropy\n",
    "\n",
    "from ortc.utils import *\n",
    "from ortc.glop_v2 import glop_v2\n",
    "from ortc.ortc_v2 import ortc_v2\n",
    "from ortc.ortc_v1 import ortc_v1\n",
    "from otc.exactOTC import exact_otc\n",
    "from ortc.entropicORTC import entropic_ortc\n",
    "from ortc.entropicORTC_log import entropic_ortc_log"
   ]
  },
  {
   "cell_type": "code",
   "execution_count": 5,
   "metadata": {},
   "outputs": [],
   "source": [
    "n = 15"
   ]
  },
  {
   "cell_type": "code",
   "execution_count": 3,
   "metadata": {},
   "outputs": [],
   "source": [
    "def independent_weight_couplings(A1, A2):\n",
    "    dx = A1.shape[0]\n",
    "    dy = A2.shape[0]\n",
    "    w = np.zeros((dx,dy,dx,dy))\n",
    "    for i in range(dx):\n",
    "        for j in range(dy):\n",
    "            for k in range(dx):\n",
    "                w[i,j,k,:] = A1[i,k]*A2[j,:]\n",
    "    return w"
   ]
  },
  {
   "cell_type": "code",
   "execution_count": 8,
   "metadata": {},
   "outputs": [
    {
     "name": "stdout",
     "output_type": "stream",
     "text": [
      "0\n",
      "1\n"
     ]
    }
   ],
   "source": [
    "A1 = stochastic_block_model([n], np.array([[1.0]]))\n",
    "\n",
    "# Random permutation\n",
    "perm = np.random.permutation(n)\n",
    "A2 = A1[np.ix_(perm, perm)]\n",
    "\n",
    "ortc_cost_list = []\n",
    "entropic_ortc_cost_list = []\n",
    "independent_cost_list = []\n",
    "kl_divergence = []\n",
    "# Find all the edges in the upper triangular part of the matrix (since it's symmetric)\n",
    "edges1 = [(i, j) for i in range(n) for j in range(i+1, n) if A1[i, j] > 0]\n",
    "edges2 = [(i, j) for i in range(n) for j in range(i+1, n) if A2[i, j] > 0]\n",
    "\n",
    "# Run algorithm\n",
    "for i in range(2):\n",
    "    print(i)\n",
    "    # Ensure each graph has a total degree of 1\n",
    "    A1 /= np.sum(A1)\n",
    "    A2 /= np.sum(A2)\n",
    "    # Get cost function\n",
    "    w_indep = independent_weight_couplings(A1,A2)\n",
    "    c = get_degree_cost(A1, A2)\n",
    "    d = np.sum(w_indep, axis=(2, 3))\n",
    "    cost_indep = np.sum(d * c)\n",
    "    independent_cost_list.append(cost_indep)\n",
    "    _, cost, weight = glop_v2(A1, A2, c, vertex=True)\n",
    "    d_ortc = np.sum(weight, axis=(2, 3))\n",
    "    ortc_cost_list.append(cost)\n",
    "    \n",
    "    _, entropic_cost, _, _, _ = entropic_ortc(A1, A2, c, 0.0001, 10000, 1e-10)\n",
    "    entropic_ortc_cost_list.append(entropic_cost)\n",
    "    \n",
    "    kl_divergence.append(entropy(d.flatten(), d_ortc.flatten()))\n",
    "    \n",
    "    edge_to_remove1 = random.choice(edges1)\n",
    "    i, j = edge_to_remove1\n",
    "    A1[i, j] = 0\n",
    "    A1[j, i] = 0\n",
    "    \n",
    "    edge_to_remove2 = random.choice(edges2)\n",
    "    i, j = edge_to_remove2\n",
    "    A2[i, j] = 0\n",
    "    A2[j, i] = 0"
   ]
  },
  {
   "cell_type": "code",
   "execution_count": 25,
   "metadata": {},
   "outputs": [
    {
     "data": {
      "text/plain": [
       "[0.0,\n",
       " 5.056166789940825e-06,\n",
       " 8.893755349636035e-06,\n",
       " 1.9654811438714075e-05,\n",
       " 2.899037454218539e-05,\n",
       " 3.439500000000008e-05,\n",
       " 4.811075573799227e-05,\n",
       " 4.86085729585463e-05,\n",
       " 6.620408449945502e-05,\n",
       " 6.36253827883872e-05]"
      ]
     },
     "execution_count": 25,
     "metadata": {},
     "output_type": "execute_result"
    }
   ],
   "source": [
    "independent_cost_list"
   ]
  },
  {
   "cell_type": "code",
   "execution_count": 27,
   "metadata": {},
   "outputs": [
    {
     "data": {
      "text/plain": [
       "[0.0, 5.056166789940821e-06]"
      ]
     },
     "execution_count": 27,
     "metadata": {},
     "output_type": "execute_result"
    }
   ],
   "source": [
    "independent_cost_list"
   ]
  },
  {
   "cell_type": "code",
   "execution_count": 28,
   "metadata": {},
   "outputs": [
    {
     "data": {
      "text/plain": [
       "[0.0, 1.4960394068922823e-17]"
      ]
     },
     "execution_count": 28,
     "metadata": {},
     "output_type": "execute_result"
    }
   ],
   "source": [
    "ortc_cost_list"
   ]
  },
  {
   "cell_type": "code",
   "execution_count": 29,
   "metadata": {},
   "outputs": [
    {
     "name": "stdout",
     "output_type": "stream",
     "text": [
      "0\n",
      "1\n"
     ]
    }
   ],
   "source": [
    "# Run algorithm\n",
    "for i in range(2):\n",
    "    print(i)\n",
    "    # Ensure each graph has a total degree of 1\n",
    "    A1 /= np.sum(A1)\n",
    "    A2 /= np.sum(A2)\n",
    "    # Get cost function\n",
    "    w_indep = independent_weight_couplings(A1,A2)\n",
    "    c = get_degree_cost(A1, A2)\n",
    "    d = np.sum(w_indep, axis=(2, 3))\n",
    "    cost_indep = np.sum(d * c)\n",
    "    independent_cost_list.append(cost_indep)\n",
    "    _, cost, _ = glop_v2(A1, A2, c, vertex=True)\n",
    "    ortc_cost_list.append(cost)\n",
    "    \n",
    "    edge_to_remove1 = random.choice(edges1)\n",
    "    i, j = edge_to_remove1\n",
    "    A1[i, j] = 0\n",
    "    A1[j, i] = 0\n",
    "    \n",
    "    edge_to_remove2 = random.choice(edges2)\n",
    "    i, j = edge_to_remove2\n",
    "    A2[i, j] = 0\n",
    "    A2[j, i] = 0"
   ]
  },
  {
   "cell_type": "code",
   "execution_count": 30,
   "metadata": {},
   "outputs": [
    {
     "data": {
      "text/plain": [
       "[0.0, 5.056166789940821e-06, 8.89375534963604e-06, 1.1349441058735717e-05]"
      ]
     },
     "execution_count": 30,
     "metadata": {},
     "output_type": "execute_result"
    }
   ],
   "source": [
    "independent_cost_list"
   ]
  },
  {
   "cell_type": "code",
   "execution_count": 31,
   "metadata": {},
   "outputs": [
    {
     "data": {
      "text/plain": [
       "[0.0, 1.4960394068922823e-17, 3.765492818437509e-17, 3.2001477148280136e-17]"
      ]
     },
     "execution_count": 31,
     "metadata": {},
     "output_type": "execute_result"
    }
   ],
   "source": [
    "ortc_cost_list"
   ]
  },
  {
   "cell_type": "code",
   "execution_count": null,
   "metadata": {},
   "outputs": [],
   "source": []
  },
  {
   "cell_type": "code",
   "execution_count": 18,
   "metadata": {},
   "outputs": [
    {
     "name": "stdout",
     "output_type": "stream",
     "text": [
      "0\n",
      "1\n",
      "2\n",
      "3\n",
      "4\n",
      "5\n",
      "6\n",
      "7\n",
      "8\n",
      "9\n"
     ]
    }
   ],
   "source": [
    "A1 = stochastic_block_model([n], np.array([[1.0]]))\n",
    "\n",
    "# Random permutation\n",
    "perm = np.random.permutation(n)\n",
    "A2 = A1[np.ix_(perm, perm)]\n",
    "\n",
    "ortc_cost_list = []\n",
    "independent_cost_list = []\n",
    "\n",
    "# Find all the edges in the upper triangular part of the matrix (since it's symmetric)\n",
    "edges1 = [(i, j) for i in range(n) for j in range(i+1, n) if A1[i, j] == 1]\n",
    "edges2 = [(i, j) for i in range(n) for j in range(i+1, n) if A2[i, j] == 1]\n",
    "\n",
    "# Ensure each graph has a total degree of 1\n",
    "A1 /= np.sum(A1)\n",
    "A2 /= np.sum(A2)\n",
    "\n",
    "# Run algorithm\n",
    "for i in range(10):\n",
    "    print(i)\n",
    "    # Get cost function\n",
    "    w_indep = independent_weight_couplings(A1,A2)\n",
    "    c = get_degree_cost(A1, A2)\n",
    "    d = np.sum(w_indep, axis=(2, 3))\n",
    "    cost_indep = np.sum(d * c)\n",
    "    independent_cost_list.append(cost_indep)\n",
    "    # _, cost, _ = glop_v2(A1, A2, c, vertex=True)\n",
    "    # ortc_cost_list.append(cost)\n",
    "    \n",
    "    edge_to_remove1 = random.choice(edges1)\n",
    "    i, j = edge_to_remove1\n",
    "    A1[i, j] = 0\n",
    "    A1[j, i] = 0\n",
    "    \n",
    "    edge_to_remove2 = random.choice(edges2)\n",
    "    i, j = edge_to_remove2\n",
    "    A2[i, j] = 0\n",
    "    A2[j, i] = 0"
   ]
  },
  {
   "cell_type": "code",
   "execution_count": 19,
   "metadata": {},
   "outputs": [
    {
     "data": {
      "text/plain": [
       "[0.0,\n",
       " 4.866285138393977e-06,\n",
       " 1.0672507854237676e-05,\n",
       " 1.5039001239195584e-05,\n",
       " 2.2328145165851653e-05,\n",
       " 2.640052241607146e-05,\n",
       " 2.8479902921107944e-05,\n",
       " 3.688586545729399e-05,\n",
       " 3.690437626297681e-05,\n",
       " 3.756459499899729e-05]"
      ]
     },
     "execution_count": 19,
     "metadata": {},
     "output_type": "execute_result"
    }
   ],
   "source": [
    "independent_cost_list"
   ]
  },
  {
   "cell_type": "code",
   "execution_count": 15,
   "metadata": {},
   "outputs": [
    {
     "data": {
      "text/plain": [
       "[0.0, 4.866285138393976e-06]"
      ]
     },
     "execution_count": 15,
     "metadata": {},
     "output_type": "execute_result"
    }
   ],
   "source": [
    "independent_cost_list"
   ]
  },
  {
   "cell_type": "code",
   "execution_count": 15,
   "metadata": {},
   "outputs": [
    {
     "name": "stdout",
     "output_type": "stream",
     "text": [
      "0\n",
      "1\n",
      "2\n",
      "3\n",
      "4\n",
      "5\n",
      "6\n",
      "7\n",
      "8\n",
      "9\n",
      "10\n",
      "11\n",
      "12\n",
      "13\n",
      "14\n",
      "15\n",
      "16\n",
      "17\n",
      "18\n",
      "19\n",
      "[0.0, 1.1928228109655543e-19, 6.068112973390006e-19, 8.01734174309621e-18, 0.001211905049088694, 0.000989594431387388, 0.0022354125976562513, 0.0022285156250000347, 0.002325925925925929, 5.678567966453292e-18, 0.004744231644550262, 0.004744231644550262, 0.003713348765432102, 0.004439587459873082, 0.004439587459873083, 0.004836589030803908, 0.006471201145214009, 0.004554687499999999, 0.0053570280349794705, 0.0053570280349794705]\n",
      "[0.0, 1.0754800046025087e-06, 8.271180667948455e-07, 4.830081435267187e-07, 0.0005159723773710819, 0.0008021451875379125, 0.0012633138195378424, 0.0013505996389666475, 0.0016369991606828703, 6.661920475333567e-06, 0.0034599143118983636, 0.0034599143118981867, 0.0037777203779736164, 0.004000270846919855, 0.00400027084691983, 0.00441802776369536, 0.005696662177599074, 0.004150377607911489, 0.004923004365478414, 0.004923004365478414]\n",
      "[0.0, 0.00023437499999999988, 0.0006368889127615655, 0.0009954656302392938, 0.0012119050490887124, 0.002124975054224761, 0.00223541259765625, 0.0022285156249999996, 0.002325925925925925, 0.003318929612661389, 0.004744231644550259, 0.004744231644550263, 0.003713348765432098, 0.004439587459872961, 0.004439587459872961, 0.004836589030803908, 0.006471201145214002, 0.004554687500000001, 0.005357028034979425, 0.005357028034979425]\n",
      "[inf, inf, inf, 27.309781052160176, 0.014433949316524242, 2.772753698238671, 0.002250980589540083, 0.0012452450986190388, -3.293661639734385e-17, inf, 9.147843560833274e-17, 1.4781075771579225e-16, 2.1491296396818244e-16, 1.6905668783707507e-16, 8.670750067996373e-17, -2.079144937025456e-16, -2.2428747972229184e-17, 0.007260583627976977, inf, inf]\n"
     ]
    }
   ],
   "source": [
    "n = 7\n",
    "A1 = stochastic_block_model([n], np.array([[1.0]]))\n",
    "\n",
    "# Random permutation\n",
    "perm = np.random.permutation(n)\n",
    "A2 = A1[np.ix_(perm, perm)]\n",
    "\n",
    "ortc_cost_list = []\n",
    "entropic_ortc_cost_list = []\n",
    "independent_cost_list = []\n",
    "kl_divergence = []\n",
    "# Find all the edges in the upper triangular part of the matrix (since it's symmetric)\n",
    "edges1 = [(i, j) for i in range(n) for j in range(i+1, n) if A1[i, j] > 0]\n",
    "edges2 = [(i, j) for i in range(n) for j in range(i+1, n) if A2[i, j] > 0]\n",
    "\n",
    "# Run algorithm\n",
    "for i in range(20):\n",
    "    print(i)\n",
    "    # Ensure each graph has a total degree of 1\n",
    "    A1 /= np.sum(A1)\n",
    "    A2 /= np.sum(A2)\n",
    "    # Get cost function\n",
    "    w_indep = independent_weight_couplings(A1,A2)\n",
    "    c = get_degree_cost(A1, A2)\n",
    "    d = np.sum(w_indep, axis=(2, 3))\n",
    "    cost_indep = np.sum(d * c)\n",
    "    independent_cost_list.append(cost_indep)\n",
    "    _, cost, weight = glop_v2(A1, A2, c, vertex=True)\n",
    "    d_ortc = np.sum(weight, axis=(2, 3))\n",
    "    ortc_cost_list.append(cost)\n",
    "    \n",
    "    _, entropic_cost, _, _, _ = entropic_ortc_log(A1, A2, c, 0.0001, 10000, 1e-10)\n",
    "    entropic_ortc_cost_list.append(entropic_cost)\n",
    "    \n",
    "    kl_divergence.append(entropy(d.flatten(), d_ortc.flatten()))\n",
    "    \n",
    "    edge_to_remove1 = random.choice(edges1)\n",
    "    i, j = edge_to_remove1\n",
    "    A1[i, j] = 0\n",
    "    A1[j, i] = 0\n",
    "    \n",
    "    edge_to_remove2 = random.choice(edges2)\n",
    "    i, j = edge_to_remove2\n",
    "    A2[i, j] = 0\n",
    "    A2[j, i] = 0\n",
    "\n",
    "print(ortc_cost_list)\n",
    "print(entropic_ortc_cost_list)\n",
    "print(independent_cost_list)\n",
    "print(kl_divergence)"
   ]
  },
  {
   "cell_type": "code",
   "execution_count": 17,
   "metadata": {},
   "outputs": [
    {
     "data": {
      "image/png": "[encoded data removed]",
      "text/plain": [
       "<Figure size 640x480 with 2 Axes>"
      ]
     },
     "metadata": {},
     "output_type": "display_data"
    }
   ],
   "source": [
    "import matplotlib.pyplot as plt\n",
    "import numpy as np\n",
    "\n",
    "# Create figure and axis objects\n",
    "fig, ax1 = plt.subplots()\n",
    "\n",
    "# Plotting independent, ortc, and entropic ortc costs on the primary y-axis\n",
    "ax1.plot(independent_cost_list, marker='o', linestyle='-', color='b', label='independent')\n",
    "ax1.plot(ortc_cost_list, marker='o', linestyle='-', color='r', label='ortc')\n",
    "ax1.plot(entropic_ortc_cost_list, marker='o', linestyle='-', color='g', label='entropic ortc')\n",
    "\n",
    "# Label for primary y-axis\n",
    "ax1.set_xlabel('Number of edges removed')\n",
    "ax1.set_ylabel('Cost', color='black')\n",
    "\n",
    "# Set xticks\n",
    "ax1.set_xticks(np.arange(0, 21, 2))\n",
    "\n",
    "# Add grid and legend for the first axis\n",
    "ax1.grid(True)\n",
    "ax1.legend(loc='upper left')\n",
    "\n",
    "# Create a secondary y-axis for the KL divergence\n",
    "ax2 = ax1.twinx()\n",
    "\n",
    "# Plotting kl_divergence on the secondary y-axis\n",
    "ax2.plot(kl_divergence, marker='o', linestyle='-', color='y', label='kl divergence')\n",
    "\n",
    "# Label for secondary y-axis\n",
    "ax2.set_ylabel('KL Divergence', color='y')\n",
    "\n",
    "# Add legend for the second axis\n",
    "ax2.legend(loc='upper right')\n",
    "\n",
    "# Display the plot\n",
    "plt.tight_layout()\n",
    "plt.show()"
   ]
  },
  {
   "cell_type": "code",
   "execution_count": null,
   "metadata": {},
   "outputs": [],
   "source": []
  }
 ],
 "metadata": {
  "kernelspec": {
   "display_name": "NetOTC",
   "language": "python",
   "name": "python3"
  },
  "language_info": {
   "codemirror_mode": {
    "name": "ipython",
    "version": 3
   },
   "file_extension": ".py",
   "mimetype": "text/x-python",
   "name": "python",
   "nbconvert_exporter": "python",
   "pygments_lexer": "ipython3",
   "version": "3.9.18"
  }
 },
 "nbformat": 4,
 "nbformat_minor": 2
}
