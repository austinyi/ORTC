{
 "cells": [
  {
   "cell_type": "code",
   "execution_count": 1,
   "metadata": {},
   "outputs": [],
   "source": [
    "import random\n",
    "import networkx as nx\n",
    "import matplotlib.pyplot as plt\n",
    "import numpy as np\n",
    "import time\n",
    "import sys\n",
    "import os\n",
    "sys.path.append(os.path.abspath('../'))"
   ]
  },
  {
   "cell_type": "code",
   "execution_count": 2,
   "metadata": {},
   "outputs": [],
   "source": [
    "from ortc.utils import *\n",
    "from ortc.glop_v2 import glop_v2"
   ]
  },
  {
   "cell_type": "code",
   "execution_count": 3,
   "metadata": {},
   "outputs": [
    {
     "name": "stdout",
     "output_type": "stream",
     "text": [
      "Generated tree edges: [(3, 19), (5, 20), (7, 4), (4, 6), (6, 16), (10, 1), (12, 1), (13, 11), (11, 9), (14, 18), (16, 18), (19, 18), (18, 2), (2, 8), (8, 15), (15, 1), (1, 9), (9, 17), (17, 20)]\n"
     ]
    },
    {
     "data": {
      "image/png": "[encoded data removed]",
      "text/plain": [
       "<Figure size 640x480 with 1 Axes>"
      ]
     },
     "metadata": {},
     "output_type": "display_data"
    }
   ],
   "source": [
    "def generate_random_tree(n):\n",
    "    if n <= 1:\n",
    "        raise ValueError(\"The number of nodes must be greater than 1.\")\n",
    "    \n",
    "    # Step 1: Generate a random Prufer sequence of length n-2\n",
    "    prufer_sequence = [random.randint(1, n) for _ in range(n - 2)]\n",
    "    \n",
    "    # Step 2: Calculate the degree of each node\n",
    "    node_degree = [1] * n  # Initialize all nodes with degree 1 (leaf)\n",
    "    for node in prufer_sequence:\n",
    "        node_degree[node - 1] += 1  \n",
    "    \n",
    "    # Step 3: Build the tree using the Prufer sequence\n",
    "    edges = []\n",
    "    for node in prufer_sequence:\n",
    "        # Find the smallest leaf node (degree 1)\n",
    "        for i in range(n):\n",
    "            if node_degree[i] == 1:\n",
    "                edges.append((i + 1, node))\n",
    "                node_degree[i] -= 1  \n",
    "                node_degree[node - 1] -= 1  \n",
    "                break\n",
    "    \n",
    "    # Connect the last two remaining leaf nodes\n",
    "    remaining_nodes = [i + 1 for i in range(n) if node_degree[i] == 1]\n",
    "    edges.append((remaining_nodes[0], remaining_nodes[1]))\n",
    "    \n",
    "    return edges\n",
    "\n",
    "def plot_tree(edges):\n",
    "    # Create a graph from the edges and plot it\n",
    "    G = nx.Graph()\n",
    "    G.add_edges_from(edges)\n",
    "    \n",
    "    pos = nx.spring_layout(G)  # Position nodes using spring layout\n",
    "    nx.draw(G, pos, with_labels=True, node_color=\"lightblue\", font_weight='bold', node_size=500)\n",
    "    plt.show()\n",
    "\n",
    "# Example usage:\n",
    "n = 20  # Number of nodes in the tree\n",
    "tree_edges = generate_random_tree(n)\n",
    "print(\"Generated tree edges:\", tree_edges)\n",
    "\n",
    "# Visualize the generated tree\n",
    "plot_tree(tree_edges)\n"
   ]
  },
  {
   "cell_type": "code",
   "execution_count": 4,
   "metadata": {},
   "outputs": [
    {
     "data": {
      "text/plain": [
       "[(1, 19),\n",
       " (4, 10),\n",
       " (6, 9),\n",
       " (9, 19),\n",
       " (10, 7),\n",
       " (12, 14),\n",
       " (13, 19),\n",
       " (15, 14),\n",
       " (16, 2),\n",
       " (2, 8),\n",
       " (8, 3),\n",
       " (3, 17),\n",
       " (17, 11),\n",
       " (11, 5),\n",
       " (5, 20),\n",
       " (18, 7),\n",
       " (7, 20),\n",
       " (19, 14),\n",
       " (14, 20)]"
      ]
     },
     "execution_count": 4,
     "metadata": {},
     "output_type": "execute_result"
    }
   ],
   "source": [
    "tree_edges"
   ]
  },
  {
   "cell_type": "code",
   "execution_count": 1,
   "metadata": {},
   "outputs": [],
   "source": [
    "def generate_random_tree(n):\n",
    "    if n <= 1:\n",
    "        raise ValueError(\"The number of nodes must be greater than 1.\")\n",
    "    \n",
    "    # Step 1: Generate a random Prufer sequence of length n-2\n",
    "    prufer_sequence = [random.randint(1, n) for _ in range(n - 2)]\n",
    "    \n",
    "    # Step 2: Calculate the degree of each node\n",
    "    node_degree = [1] * n  # Initialize all nodes with degree 1 (leaf)\n",
    "    for node in prufer_sequence:\n",
    "        node_degree[node - 1] += 1  \n",
    "    \n",
    "    # Step 3: Build the tree using the Prufer sequence\n",
    "    edges = []\n",
    "    for node in prufer_sequence:\n",
    "        # Find the smallest leaf node (degree 1)\n",
    "        for i in range(n):\n",
    "            if node_degree[i] == 1:\n",
    "                edges.append((i + 1, node))\n",
    "                node_degree[i] -= 1  \n",
    "                node_degree[node - 1] -= 1  \n",
    "                break\n",
    "    \n",
    "    # Connect the last two remaining leaf nodes\n",
    "    remaining_nodes = [i + 1 for i in range(n) if node_degree[i] == 1]\n",
    "    edges.append((remaining_nodes[0], remaining_nodes[1]))\n",
    "    \n",
    "    # Create a graph from the edges and plot it\n",
    "    G = nx.Graph()\n",
    "    G.add_edges_from(edges)\n",
    "\n",
    "    return nx.to_numpy_array(G, nodelist=list(range(1, n+1)))"
   ]
  },
  {
   "cell_type": "code",
   "execution_count": 5,
   "metadata": {},
   "outputs": [
    {
     "data": {
      "text/plain": [
       "array([[0., 1., 0., 0., 0., 0., 0., 0., 0., 0.],\n",
       "       [1., 0., 1., 0., 0., 0., 1., 0., 0., 1.],\n",
       "       [0., 1., 0., 1., 0., 1., 0., 0., 0., 0.],\n",
       "       [0., 0., 1., 0., 0., 0., 0., 0., 0., 0.],\n",
       "       [0., 0., 0., 0., 0., 0., 1., 0., 0., 0.],\n",
       "       [0., 0., 1., 0., 0., 0., 0., 0., 0., 0.],\n",
       "       [0., 1., 0., 0., 1., 0., 0., 0., 0., 0.],\n",
       "       [0., 0., 0., 0., 0., 0., 0., 0., 1., 1.],\n",
       "       [0., 0., 0., 0., 0., 0., 0., 1., 0., 0.],\n",
       "       [0., 1., 0., 0., 0., 0., 0., 1., 0., 0.]])"
      ]
     },
     "execution_count": 5,
     "metadata": {},
     "output_type": "execute_result"
    }
   ],
   "source": [
    "generate_random_tree(10)"
   ]
  },
  {
   "cell_type": "code",
   "execution_count": null,
   "metadata": {},
   "outputs": [],
   "source": []
  },
  {
   "cell_type": "code",
   "execution_count": null,
   "metadata": {},
   "outputs": [],
   "source": []
  }
 ],
 "metadata": {
  "kernelspec": {
   "display_name": "NetOTC",
   "language": "python",
   "name": "python3"
  },
  "language_info": {
   "codemirror_mode": {
    "name": "ipython",
    "version": 3
   },
   "file_extension": ".py",
   "mimetype": "text/x-python",
   "name": "python",
   "nbconvert_exporter": "python",
   "pygments_lexer": "ipython3",
   "version": "3.9.18"
  }
 },
 "nbformat": 4,
 "nbformat_minor": 2
}
