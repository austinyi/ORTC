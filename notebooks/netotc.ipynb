{
 "cells": [
  {
   "cell_type": "code",
   "execution_count": 23,
   "metadata": {},
   "outputs": [],
   "source": [
    "import sys\n",
    "import os\n",
    "sys.path.append(os.path.abspath('../'))\n",
    "\n",
    "import numpy as np\n",
    "from random import randint\n",
    "import random\n",
    "import time\n",
    "from scipy.stats import entropy\n",
    "\n",
    "from ortc.utils import *\n",
    "from ortc.glop_v2 import glop_v2\n",
    "from ortc.ortc_v2 import ortc_v2\n",
    "from ortc.ortc_v1 import ortc_v1\n",
    "from otc.exactOTC import exact_otc\n",
    "from ortc.entropicORTC import entropic_ortc\n",
    "from experiment.isomorphism import *\n",
    "\n",
    "from otc.exactOTC import *"
   ]
  },
  {
   "cell_type": "code",
   "execution_count": 19,
   "metadata": {},
   "outputs": [
    {
     "name": "stdout",
     "output_type": "stream",
     "text": [
      "ORTC cost:  0.0\n",
      "NetOTC cost:  1.0000000000000002\n"
     ]
    }
   ],
   "source": [
    "A1 = random_tree(3, 3)\n",
    "n = A1.shape[0]\n",
    "perm = np.random.permutation(n)\n",
    "A2 = A1[np.ix_(perm, perm)]\n",
    "\n",
    "# Get cost function\n",
    "c = get_degree_cost(A1, A2)\n",
    "# A1 /= np.sum(A1)\n",
    "# A2 /= np.sum(A2)\n",
    "\n",
    "# Get transition matrices\n",
    "P1 = adj_to_trans(A1)\n",
    "P2 = adj_to_trans(A2)\n",
    "\n",
    "# Run algorithm\n",
    "_, ortc_cost, ortc_weight = glop_v2(A1, A2, c, vertex=True)\n",
    "ortc_alignment = np.sum(ortc_weight, axis=(2, 3))\n",
    "_, otc_cost, _, otc_alignment = exact_otc(P1, P2, c)\n",
    "print('ORTC cost: ', ortc_cost)\n",
    "print('NetOTC cost: ', otc_cost)"
   ]
  },
  {
   "cell_type": "code",
   "execution_count": 40,
   "metadata": {},
   "outputs": [],
   "source": [
    "import numpy as np\n",
    "from ortools.linear_solver import pywraplp\n",
    "\n",
    "def get_best_stat_dist(P, c):\n",
    "    n = P.shape[0]\n",
    "    c = c.reshape(n, -1).flatten()  \n",
    "    \n",
    "    # Create the linear solver with the GLOP \n",
    "    solver = pywraplp.Solver.CreateSolver('GLOP')\n",
    "    \n",
    "    # Decision variables: stat_dist[i]\n",
    "    stat_dist = [solver.NumVar(0.0, solver.infinity(), f'stat_dist_{i}') for i in range(n)]\n",
    "\n",
    "    # Constraints: (P' - I) * stat_dist = 0\n",
    "    for i in range(n):\n",
    "        constraint_expr = solver.Sum((P[j, i] - (1.0 if i == j else 0.0)) * stat_dist[j] for j in range(n))\n",
    "        solver.Add(constraint_expr == 0)\n",
    "\n",
    "    # Constraint: sum(stat_dist) == 1\n",
    "    solver.Add(solver.Sum(stat_dist) == 1)\n",
    "\n",
    "    # Create objective function\n",
    "    solver.Minimize(solver.Sum(stat_dist * c))\n",
    "\n",
    "    # Solve the problem.\n",
    "    status = solver.Solve()\n",
    "\n",
    "    if status == pywraplp.Solver.OPTIMAL:\n",
    "        stat_dist_values = np.array([var.solution_value() for var in stat_dist])\n",
    "        exp_cost = solver.Objective().Value()\n",
    "        return stat_dist_values, exp_cost\n",
    "    else:\n",
    "        # In case the solver fails, try rescaling constraints.\n",
    "        alpha = 1\n",
    "        while alpha >= 1e-10:\n",
    "            alpha /= 10\n",
    "            # Create a new solver instance to reset all variables and constraints.\n",
    "            solver = pywraplp.Solver.CreateSolver('GLOP')\n",
    "\n",
    "            # Decision variables: stat_dist[i]\n",
    "            stat_dist = [solver.NumVar(0.0, solver.infinity(), f'stat_dist_{i}') for i in range(n)]\n",
    "\n",
    "            # Constraints: alpha * (P' - I) * stat_dist = 0\n",
    "            for i in range(n):\n",
    "                constraint_expr = solver.Sum(alpha * (P[j, i] - (1.0 if i == j else 0.0)) * stat_dist[j] for j in range(n))\n",
    "                solver.Add(constraint_expr == 0)\n",
    "\n",
    "            # Constraint: alpha * sum(stat_dist) == alpha\n",
    "            solver.Add(solver.Sum([alpha * var for var in stat_dist]) == alpha)\n",
    "\n",
    "            # Create objective function\n",
    "            solver.Minimize(solver.Sum(stat_dist * c))\n",
    "\n",
    "            # Solve the problem again.\n",
    "            status = solver.Solve()\n",
    "            if status == pywraplp.Solver.OPTIMAL:\n",
    "                stat_dist_values = np.array([var.solution_value() for var in stat_dist])\n",
    "                exp_cost = solver.Objective().Value()\n",
    "                return stat_dist_values, exp_cost\n",
    "\n",
    "        # If still no solution, raise an error.\n",
    "        raise ValueError('Failed to compute stationary distribution.')\n"
   ]
  },
  {
   "cell_type": "code",
   "execution_count": 39,
   "metadata": {},
   "outputs": [
    {
     "data": {
      "text/plain": [
       "(array([0.   , 0.5  , 0.   , 0.125, 0.   , 0.125, 0.125, 0.   , 0.125]), 0.0)"
      ]
     },
     "execution_count": 39,
     "metadata": {},
     "output_type": "execute_result"
    }
   ],
   "source": [
    "get_best_stat_dist(P, c)"
   ]
  },
  {
   "cell_type": "code",
   "execution_count": 41,
   "metadata": {},
   "outputs": [
    {
     "data": {
      "text/plain": [
       "(array([0.   , 0.5  , 0.   , 0.125, 0.   , 0.125, 0.125, 0.   , 0.125]), 0.0)"
      ]
     },
     "execution_count": 41,
     "metadata": {},
     "output_type": "execute_result"
    }
   ],
   "source": [
    "get_best_stat_dist(P, c)"
   ]
  },
  {
   "cell_type": "code",
   "execution_count": null,
   "metadata": {},
   "outputs": [],
   "source": []
  }
 ],
 "metadata": {
  "kernelspec": {
   "display_name": "NetOTC",
   "language": "python",
   "name": "python3"
  },
  "language_info": {
   "codemirror_mode": {
    "name": "ipython",
    "version": 3
   },
   "file_extension": ".py",
   "mimetype": "text/x-python",
   "name": "python",
   "nbconvert_exporter": "python",
   "pygments_lexer": "ipython3",
   "version": "3.9.18"
  }
 },
 "nbformat": 4,
 "nbformat_minor": 2
}
