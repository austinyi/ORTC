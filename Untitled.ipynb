{
 "cells": [
  {
   "cell_type": "code",
   "execution_count": 1,
   "metadata": {},
   "outputs": [],
   "source": [
    "from scipy.optimize import linprog\n",
    "import numpy as np\n",
    "import time\n",
    "from utils import get_degree_cost, stochastic_block_model\n",
    "\n",
    "from entropicORTC import entropic_ortc_new\n",
    "from ortc_v1 import ortc_v1\n",
    "from ortc_v2 import ortc_v2\n",
    "from glop_v1 import glop_v1\n",
    "from ortc_v2_new import ortc_v2_new\n",
    "from glop_v2_new import glop_v2_new"
   ]
  },
  {
   "cell_type": "code",
   "execution_count": 8,
   "metadata": {},
   "outputs": [],
   "source": [
    "m1 = 3\n",
    "m2 = 3\n",
    "A1 = stochastic_block_model(np.array([m1,m1,m1,m1]), np.array([[1,0.1,0.1,0.1],[0.1,0.9,0.1,0.1],[0.1,0.1,0.8,0.1],[0.1,0.1,0.1,0.7]]))\n",
    "A2 = stochastic_block_model(np.array([m2,m2,m2,m2]), np.array([[1,0.1,0.1,0.1],[0.1,0.9,0.1,0.1],[0.1,0.1,0.8,0.1],[0.1,0.1,0.1,0.7]]))\n",
    "A1 = A1 / np.sum(A1)\n",
    "A2 = A2 / np.sum(A2)\n",
    "c = get_degree_cost(A1, A2)"
   ]
  },
  {
   "cell_type": "code",
   "execution_count": 3,
   "metadata": {},
   "outputs": [
    {
     "name": "stdout",
     "output_type": "stream",
     "text": [
      "0.0013272500000000322\n",
      "834.4092981815338\n"
     ]
    }
   ],
   "source": [
    "start = time.time()\n",
    "exp_cost, weight = ortc_v1(A1, A2, c)\n",
    "end = time.time()\n",
    "print(exp_cost)\n",
    "print(end - start)"
   ]
  },
  {
   "cell_type": "code",
   "execution_count": 4,
   "metadata": {},
   "outputs": [
    {
     "name": "stdout",
     "output_type": "stream",
     "text": [
      "0.0008660000000000007\n",
      "0.2720799446105957\n"
     ]
    }
   ],
   "source": [
    "start = time.time()\n",
    "exp_cost, weight = ortc_v2(A1, A2, c)\n",
    "end = time.time()\n",
    "print(exp_cost)\n",
    "print(end - start)"
   ]
  },
  {
   "cell_type": "code",
   "execution_count": 5,
   "metadata": {},
   "outputs": [
    {
     "name": "stdout",
     "output_type": "stream",
     "text": [
      "0.0013196031328565952\n",
      "8.593578100204468\n"
     ]
    }
   ],
   "source": [
    "start = time.time()\n",
    "w, exp_cost, n, iter_his, cost_his = entropic_ortc_new(A1, A2, c, 0.0002, 10000, 1e-8)\n",
    "end = time.time()\n",
    "print(exp_cost)\n",
    "print(end - start)"
   ]
  },
  {
   "cell_type": "code",
   "execution_count": 6,
   "metadata": {},
   "outputs": [
    {
     "name": "stdout",
     "output_type": "stream",
     "text": [
      "0.0013272500000000155\n",
      "0.9156689643859863\n"
     ]
    }
   ],
   "source": [
    "start = time.time()\n",
    "exp_cost, weight = ortc_v2_new(A1, A2, c)\n",
    "end = time.time()\n",
    "print(exp_cost)\n",
    "print(end - start)"
   ]
  },
  {
   "cell_type": "code",
   "execution_count": 6,
   "metadata": {},
   "outputs": [],
   "source": [
    "m1 = 4\n",
    "m2 = 3\n",
    "A1 = stochastic_block_model(np.array([m1,m1,m1,m1]), np.array([[1,0.1,0.1,0.1],[0.1,0.9,0.1,0.1],[0.1,0.1,0.8,0.1],[0.1,0.1,0.1,0.7]]))\n",
    "A2 = stochastic_block_model(np.array([m2,m2,m2,m2]), np.array([[1,0.1,0.1,0.1],[0.1,0.9,0.1,0.1],[0.1,0.1,0.8,0.1],[0.1,0.1,0.1,0.7]]))\n",
    "A1 = A1 / np.sum(A1)\n",
    "A2 = A2 / np.sum(A2)\n",
    "c = get_degree_cost(A1, A2)"
   ]
  },
  {
   "cell_type": "code",
   "execution_count": 9,
   "metadata": {},
   "outputs": [
    {
     "name": "stdout",
     "output_type": "stream",
     "text": [
      "0.0018077573638376582\n",
      "757.1347608566284\n"
     ]
    }
   ],
   "source": [
    "start = time.time()\n",
    "exp_cost, weight = ortc_v1(A1, A2, c)\n",
    "end = time.time()\n",
    "print(exp_cost)\n",
    "print(end - start)"
   ]
  },
  {
   "cell_type": "code",
   "execution_count": null,
   "metadata": {},
   "outputs": [],
   "source": [
    "start = time.time()\n",
    "exp_cost, weight = ortc_v2(A1, A2, c)\n",
    "end = time.time()\n",
    "print(exp_cost)\n",
    "print(end - start)"
   ]
  },
  {
   "cell_type": "code",
   "execution_count": null,
   "metadata": {},
   "outputs": [],
   "source": [
    "start = time.time()\n",
    "w, exp_cost, n, iter_his, cost_his = entropic_ortc_new(A1, A2, c, 0.0002, 10000, 1e-8)\n",
    "end = time.time()\n",
    "print(exp_cost)\n",
    "print(end - start)"
   ]
  },
  {
   "cell_type": "code",
   "execution_count": 7,
   "metadata": {},
   "outputs": [
    {
     "name": "stdout",
     "output_type": "stream",
     "text": [
      "0.001807757363837121\n",
      "0.3863399028778076\n"
     ]
    }
   ],
   "source": [
    "start = time.time()\n",
    "exp_cost, weight = ortc_v2_new(A1, A2, c)\n",
    "end = time.time()\n",
    "print(exp_cost)\n",
    "print(end - start)"
   ]
  },
  {
   "cell_type": "code",
   "execution_count": 8,
   "metadata": {},
   "outputs": [
    {
     "name": "stdout",
     "output_type": "stream",
     "text": [
      "0.001807757363837826\n",
      "0.9198508262634277\n"
     ]
    }
   ],
   "source": [
    "start = time.time()\n",
    "a, exp_cost, weight = glop_v2_new(A1, A2, c)\n",
    "end = time.time()\n",
    "print(exp_cost)\n",
    "print(end - start)"
   ]
  },
  {
   "cell_type": "code",
   "execution_count": 9,
   "metadata": {},
   "outputs": [
    {
     "name": "stdout",
     "output_type": "stream",
     "text": [
      "None\n",
      "373.5047891139984\n"
     ]
    }
   ],
   "source": [
    "start = time.time()\n",
    "a, exp_cost = glop_v1(A1, A2, c)\n",
    "end = time.time()\n",
    "print(exp_cost)\n",
    "print(end - start)"
   ]
  },
  {
   "cell_type": "code",
   "execution_count": null,
   "metadata": {},
   "outputs": [],
   "source": []
  }
 ],
 "metadata": {
  "kernelspec": {
   "display_name": "Python 3",
   "language": "python",
   "name": "python3"
  },
  "language_info": {
   "codemirror_mode": {
    "name": "ipython",
    "version": 3
   },
   "file_extension": ".py",
   "mimetype": "text/x-python",
   "name": "python",
   "nbconvert_exporter": "python",
   "pygments_lexer": "ipython3",
   "version": "3.8.3"
  }
 },
 "nbformat": 4,
 "nbformat_minor": 4
}
